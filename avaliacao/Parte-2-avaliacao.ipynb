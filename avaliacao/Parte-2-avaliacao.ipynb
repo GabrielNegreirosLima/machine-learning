{
 "cells": [
  {
   "cell_type": "markdown",
   "metadata": {},
   "source": [
    "## Antes de começar..."
   ]
  },
  {
   "cell_type": "markdown",
   "metadata": {},
   "source": [
    "Lembre-se, que em python, podemos passar inclusive classes por parametros:"
   ]
  },
  {
   "cell_type": "code",
   "execution_count": 1,
   "metadata": {},
   "outputs": [
    {
     "name": "stdout",
     "output_type": "stream",
     "text": [
      "Numero: 99\n",
      "Numero: 101\n"
     ]
    }
   ],
   "source": [
    "class Xuxu:\n",
    "    def __init__(self, num):\n",
    "        self.num = num-1\n",
    "class Xaxa:\n",
    "    def __init__(self, num):\n",
    "        self.num = num+1\n",
    "\n",
    "def kaka(ClasseXuxuOuXaxa):\n",
    "    obj = ClasseXuxuOuXaxa(100)\n",
    "    print(f\"Numero: {obj.num}\")\n",
    "\n",
    "kaka(Xuxu)\n",
    "kaka(Xaxa)"
   ]
  },
  {
   "cell_type": "markdown",
   "metadata": {},
   "source": [
    "## Avaliação e Otimização de Parametros"
   ]
  },
  {
   "cell_type": "markdown",
   "metadata": {},
   "source": [
    "Cada método possui alguns parametros a serem ajustados. Alguns parametros são essenciais para, por exemplo, diminuir o _overfitting_ e conseguirmos um modelo que faça predições com menos erros possíveis. Assim, dado os parametros $(p_1, p_2, p_3)$ nosso objetivo é encontrar uma solução ótima, ou seja, valores de $p_1$, $p_2$ e $p_3$ que maximiza o resultado (por meio de Macro F1 ou acurácia, por exemplo).\n",
    "\n",
    "Por exemplo, a implementação de árvore de decisão do Scikitlearn, temos o parametro `min_samples` que define o mínimo de exemplos necessários para que um nodo da árvore efetue a divisão. Como é inviável testarmos todos os paramtros podemos variá-lo, por exemplo, de 0.1 em 0.1 passos entre 0.1 e 0.9 para tentarmos encontrar a solução ótima. \n",
    "\n",
    "O algoritmo RandomForest possui mais parametros além do `min_samples_split` (que é o equivalente ao min_samples da árvore de decisão), por exemplo, a porcentagem de atributos (features) que será considerada para a divisão  de uma determinada árvore (`max_features`). Como esses dois parametros afetam muito o resultado, nosso *objetivo* é encontrar o valor `min_samples_split` e `max_features` que *maximizam* o resultado. Similarmente a uma arvore de decisão, como o treinamento de um método de aprendizado de máquina é custoso, avaliar muitos parametros pode ser inviável, por isso, poderiamos variar cada parametro da seguinte forma: \n",
    "\n",
    "- min_samples_split: {0.1, 0,2, ...,0.9}\n",
    "- max_features: {0.1, 0,2, ...,0.9}\n",
    "\n",
    "Com essa quantidade de parametro podemos fazer um [GridSearch]() nele, testamos todas as combinações ou seja, para cada `min_sample_split`, você testará todos os valores `max_features` (${0.1, 0,2, ...,0.9}$). Porém, mesmo assim, o GridSearch pode ficar inviável se quiséssemos colocar mais parametros. Por  exemplo, um outro parametro importante neste método é o número de árvores que o algoritmo irá utilizar (`n_estimators`) que poderiamos variar da seguinte forma:\n",
    "\n",
    "- n_estimators: {1, 20, 40, 60, 80, 100}\n",
    "\n",
    "Porém, mesmo com apenas 5 valores, a quantidade de combinações que precisariamos testar seria 5 vezes mais.  Além disso, não conseguimos explorar bem o espaço de busca. Por exemplo, vamos supor que a solução ótima seria com 30 árvores, max_features=0.15 e min_samples_split=0.35, ou seja, esta seria a solução que maximizaria o resultado. Usando a variação acima, não conseguiriamos encontrá-la. \n",
    "\n",
    "Uma das formas de conseguir explorar melhor o espaço quando temos muitas dimensões é, ao invés de fazer um GridSearch, fazermos um RandomSearch. Nele, é sorteado aleatoriamente valores para cada um dos parametros. Por exemplo:"
   ]
  },
  {
   "cell_type": "code",
   "execution_count": 2,
   "metadata": {},
   "outputs": [
    {
     "name": "stdout",
     "output_type": "stream",
     "text": [
      "Possíveis soluções a serem testadas:\n",
      "(0.207491395289921,0.7779469895497861,783)\n",
      "(0.15048545751016748,0.19433496293684885,780)\n",
      "(0.4595928518309905,0.6212743781782104,808)\n",
      "(0.26796384509718174,0.4902853252193181,915)\n",
      "(0.7686120831358958,0.4462136543240427,781)\n",
      "(0.7137261033183696,0.6566662934147548,273)\n",
      "(0.6772320258726261,0.2830097770163621,968)\n",
      "(0.1817817264880386,0.35394370574110734,23)\n",
      "(0.12035668879476864,0.5331299782347972,962)\n",
      "(0.8049870871377244,0.6491870833432638,993)\n"
     ]
    }
   ],
   "source": [
    "import random\n",
    "n_combinacoes = 10\n",
    "random.seed(1)\n",
    "print(\"Possíveis soluções a serem testadas:\")\n",
    "for i in range(n_combinacoes):\n",
    "    min_samples_split = random.uniform(0.1,0.9)\n",
    "    max_features = random.uniform(0.1,0.9)\n",
    "    n_estimators = random.randint(1,1000)\n",
    "    print(f\"({min_samples_split},{max_features},{n_estimators})\")"
   ]
  },
  {
   "cell_type": "markdown",
   "metadata": {},
   "source": [
    "Podemos ainda melhorar essa busca ao usar o algoritmo Tree-Structured Parzen Estimator (TPE). De forma similar ao RandomSearch, esse algoritmo também sorteia aleoriamente valores. Porém, os valores não são totalmente aleatórios. Inicialmente, gera-se $c$ combinações totalmente aleatórias e, logo após, será gerado outras opções também aleatórias porém com uma probabilidade maior de ser sorteado soluções:\n",
    "\n",
    "- próxima a locais com bons resultados \n",
    "- próxima a regiões que ainda não foram exploradas\n",
    "\n",
    "[Veja um video explicativo aqui](https://www.youtube.com/watch?v=cWyuUpZfZl0&list=PLwIaU1DGYV6tUx10fCTw5aPnqypbbK_GJ&index=32) - ele demonstra o uso em parametros de redes neurais profundas, porém, a ideia é a mesma. Ao ver o video, é interessante notar que em redes neurais profundas, chamamos tais parametros de hiperparametros. [Veja também um texto sobre ajustes de parametros (em inglês)](https://medium.com/criteo-labs/hyper-parameter-optimization-algorithms-2fe447525903).\n",
    "\n",
    "Nem sempre o TPE é melhor que o Grid Search. Depende muito do problema, da quantidade e sensibilidade dos parametros e do método de aprendizado de máquina. A única forma de descobrir qual é o melhor é avaliando ambos também ;)."
   ]
  },
  {
   "cell_type": "markdown",
   "metadata": {},
   "source": [
    "### Optuna e otimização de parametros"
   ]
  },
  {
   "cell_type": "markdown",
   "metadata": {},
   "source": [
    "O Optuna é uma biblioteca que facilita a otimização de parametros. Para simplificar, considere a função $f(x) = -2x^2 + x + 4$ em que desejamos maximizar $f(x)$ e, neste caso, nosso parametro é o $x$. Assim, em outras palavras, temos que achar qual valor de $x$ obtém o maior resultado possível dessa função. Veja a representação grafica dessa função com a solução ótima encontrada:\n"
   ]
  },
  {
   "cell_type": "code",
   "execution_count": 3,
   "metadata": {},
   "outputs": [
    {
     "data": {
      "image/png": "[encoded data removed]",
      "text/plain": [
       "<Figure size 432x288 with 1 Axes>"
      ]
     },
     "metadata": {
      "needs_background": "light"
     },
     "output_type": "display_data"
    }
   ],
   "source": [
    "import matplotlib.pyplot as plt\n",
    "import numpy as np\n",
    "\n",
    "def desenha_funcao(limit_inf=-4,limit_sup=4):\n",
    "    # create 1000 equally spaced points between -10 and 10\n",
    "    x = np.linspace(limit_inf, limit_sup, 100)\n",
    "\n",
    "    # calculate the y value for each element of the x vector\n",
    "    y = -2* x**2 + x + 4\n",
    "\n",
    "    plt.plot(x, y)\n",
    "    plt.scatter(0.25,4.125,marker=\"o\")\n",
    "desenha_funcao()"
   ]
  },
  {
   "cell_type": "markdown",
   "metadata": {},
   "source": [
    "O optuna testará, com uma determinada estratégia, vários valores de $x$ com  o objetivo de encontrar esse ponto ótimo. \n",
    "\n",
    "Para isso, você deve criar uma **função objetivo** ou seja, uma função python que calcula o função $f(x)$ por meio de um $x$ escolhido com uma determinada estratégia (aleatório, por exemplo) para a tentativa especifica (definida pelo objeto [trial](https://optuna.readthedocs.io/en/latest/reference/trial.html))."
   ]
  },
  {
   "cell_type": "code",
   "execution_count": 4,
   "metadata": {},
   "outputs": [],
   "source": [
    "import optuna\n",
    "def funcao_objetivo(trial: optuna.Trial):\n",
    "    #trial: é a tentativa atual\n",
    "    #sugggest uniform: função que sugere-se uma escolha de x aleatorio \n",
    "    #de forma uniforme (ou seja, todos os valores tem a mesma chance de ser escolhidos)\n",
    "    #pq é uma sugestão: Dependendo da estrategia de busca, esse parametro pode nao ser uniformemente escolhido\n",
    "    x = trial.suggest_uniform('x', -10, 10)\n",
    "    return -2* x**2 + x + 4"
   ]
  },
  {
   "cell_type": "markdown",
   "metadata": {},
   "source": [
    "Assim, pode-se instanciar um estudo  de parametros (objeto da classe [Study](https://optuna.readthedocs.io/en/latest/reference/study.html)) que efetua uma busca aleatória do parametro $x$, passando a função objetivo como parametro: "
   ]
  },
  {
   "cell_type": "code",
   "execution_count": 5,
   "metadata": {},
   "outputs": [
    {
     "name": "stderr",
     "output_type": "stream",
     "text": [
      "\u001b[32m[I 2021-03-02 06:40:35,806]\u001b[0m A new study created in memory with name: no-name-6657ecae-021c-474e-92a7-1bac38ef831c\u001b[0m\n",
      "\u001b[32m[I 2021-03-02 06:40:35,807]\u001b[0m Trial 0 finished with value: -3.1678380688122374 and parameters: {'x': -1.6595599059485195}. Best is trial 0 with value: -3.1678380688122374.\u001b[0m\n",
      "\u001b[32m[I 2021-03-02 06:40:35,809]\u001b[0m Trial 1 finished with value: -30.427816059591684 and parameters: {'x': 4.4064898688431615}. Best is trial 0 with value: -3.1678380688122374.\u001b[0m\n",
      "\u001b[32m[I 2021-03-02 06:40:35,809]\u001b[0m Trial 2 finished with value: -205.90622311505624 and parameters: {'x': -9.997712503653101}. Best is trial 0 with value: -3.1678380688122374.\u001b[0m\n",
      "\u001b[32m[I 2021-03-02 06:40:35,810]\u001b[0m Trial 3 finished with value: -31.211278021240723 and parameters: {'x': -3.9533485473632046}. Best is trial 0 with value: -3.1678380688122374.\u001b[0m\n",
      "\u001b[32m[I 2021-03-02 06:40:35,811]\u001b[0m Trial 4 finished with value: -102.89000272158682 and parameters: {'x': -7.064882183657739}. Best is trial 0 with value: -3.1678380688122374.\u001b[0m\n",
      "\u001b[32m[I 2021-03-02 06:40:35,812]\u001b[0m Trial 5 finished with value: -137.10348515668684 and parameters: {'x': -8.153228104624045}. Best is trial 0 with value: -3.1678380688122374.\u001b[0m\n",
      "\u001b[32m[I 2021-03-02 06:40:35,812]\u001b[0m Trial 6 finished with value: -81.02091974427358 and parameters: {'x': -6.274795772446582}. Best is trial 0 with value: -3.1678380688122374.\u001b[0m\n",
      "\u001b[32m[I 2021-03-02 06:40:35,813]\u001b[0m Trial 7 finished with value: -18.169976684316644 and parameters: {'x': -3.0887854591390447}. Best is trial 0 with value: -3.1678380688122374.\u001b[0m\n",
      "\u001b[32m[I 2021-03-02 06:40:35,813]\u001b[0m Trial 8 finished with value: -6.590214016758917 and parameters: {'x': -2.0646505153866013}. Best is trial 0 with value: -3.1678380688122374.\u001b[0m\n",
      "\u001b[32m[I 2021-03-02 06:40:35,814]\u001b[0m Trial 9 finished with value: 3.5709436091172453 and parameters: {'x': 0.7763346800671389}. Best is trial 9 with value: 3.5709436091172453.\u001b[0m\n",
      "\u001b[32m[I 2021-03-02 06:40:35,815]\u001b[0m Trial 10 finished with value: -2.8397309139495714 and parameters: {'x': -1.6161097119341044}. Best is trial 9 with value: 3.5709436091172453.\u001b[0m\n",
      "\u001b[32m[I 2021-03-02 06:40:35,815]\u001b[0m Trial 11 finished with value: -19.74062065384497 and parameters: {'x': 3.7043900079351904}. Best is trial 9 with value: 3.5709436091172453.\u001b[0m\n",
      "\u001b[32m[I 2021-03-02 06:40:35,816]\u001b[0m Trial 12 finished with value: -71.7897331563787 and parameters: {'x': -5.910955005369651}. Best is trial 9 with value: 3.5709436091172453.\u001b[0m\n",
      "\u001b[32m[I 2021-03-02 06:40:35,817]\u001b[0m Trial 13 finished with value: -102.81588783446958 and parameters: {'x': 7.562348727818907}. Best is trial 9 with value: 3.5709436091172453.\u001b[0m\n",
      "\u001b[32m[I 2021-03-02 06:40:35,817]\u001b[0m Trial 14 finished with value: -184.14223778664058 and parameters: {'x': -9.452248136041476}. Best is trial 9 with value: 3.5709436091172453.\u001b[0m\n",
      "\u001b[32m[I 2021-03-02 06:40:35,818]\u001b[0m Trial 15 finished with value: -15.837987417570886 and parameters: {'x': 3.409350203568044}. Best is trial 9 with value: 3.5709436091172453.\u001b[0m\n",
      "\u001b[32m[I 2021-03-02 06:40:35,819]\u001b[0m Trial 16 finished with value: -3.124700521889401 and parameters: {'x': -1.6539039526574602}. Best is trial 9 with value: 3.5709436091172453.\u001b[0m\n",
      "\u001b[32m[I 2021-03-02 06:40:35,819]\u001b[0m Trial 17 finished with value: 2.418199798521623 and parameters: {'x': 1.1737965689150336}. Best is trial 9 with value: 3.5709436091172453.\u001b[0m\n",
      "\u001b[32m[I 2021-03-02 06:40:35,820]\u001b[0m Trial 18 finished with value: -106.64950437442184 and parameters: {'x': -7.192261228095324}. Best is trial 9 with value: 3.5709436091172453.\u001b[0m\n",
      "\u001b[32m[I 2021-03-02 06:40:35,820]\u001b[0m Trial 19 finished with value: -74.95213893251648 and parameters: {'x': -6.037970218302425}. Best is trial 9 with value: 3.5709436091172453.\u001b[0m\n",
      "\u001b[32m[I 2021-03-02 06:40:35,821]\u001b[0m Trial 20 finished with value: -62.34294509675691 and parameters: {'x': 6.014891373510732}. Best is trial 9 with value: 3.5709436091172453.\u001b[0m\n",
      "\u001b[32m[I 2021-03-02 06:40:35,822]\u001b[0m Trial 21 finished with value: -162.0498911217825 and parameters: {'x': 9.36523151438795}. Best is trial 9 with value: 3.5709436091172453.\u001b[0m\n",
      "\u001b[32m[I 2021-03-02 06:40:35,822]\u001b[0m Trial 22 finished with value: -27.579946273258308 and parameters: {'x': -3.7315164368151432}. Best is trial 9 with value: 3.5709436091172453.\u001b[0m\n",
      "\u001b[32m[I 2021-03-02 06:40:35,823]\u001b[0m Trial 23 finished with value: -21.74393848492307 and parameters: {'x': 3.8464523133862816}. Best is trial 9 with value: 3.5709436091172453.\u001b[0m\n",
      "\u001b[32m[I 2021-03-02 06:40:35,823]\u001b[0m Trial 24 finished with value: -101.80725212698351 and parameters: {'x': 7.527783045920767}. Best is trial 9 with value: 3.5709436091172453.\u001b[0m\n",
      "\u001b[32m[I 2021-03-02 06:40:35,824]\u001b[0m Trial 25 finished with value: -112.67940183523393 and parameters: {'x': 7.892133270076947}. Best is trial 9 with value: 3.5709436091172453.\u001b[0m\n",
      "\u001b[32m[I 2021-03-02 06:40:35,825]\u001b[0m Trial 26 finished with value: -142.04976098678807 and parameters: {'x': -8.299115772604441}. Best is trial 9 with value: 3.5709436091172453.\u001b[0m\n",
      "\u001b[32m[I 2021-03-02 06:40:35,825]\u001b[0m Trial 27 finished with value: -175.19529862373042 and parameters: {'x': -9.218904335342353}. Best is trial 9 with value: 3.5709436091172453.\u001b[0m\n",
      "\u001b[32m[I 2021-03-02 06:40:35,826]\u001b[0m Trial 28 finished with value: -89.8129530846355 and parameters: {'x': -6.6033916087086215}. Best is trial 9 with value: 3.5709436091172453.\u001b[0m\n",
      "\u001b[32m[I 2021-03-02 06:40:35,827]\u001b[0m Trial 29 finished with value: -102.83055225130268 and parameters: {'x': 7.562850068588261}. Best is trial 9 with value: 3.5709436091172453.\u001b[0m\n"
     ]
    }
   ],
   "source": [
    "from optuna.samplers import RandomSampler\n",
    "#nossa funcao sera de maximizacao (por isso direction=maximize)\n",
    "#o sampler que define a estratégia de busca. \n",
    "#Neste caso, será feita uma busca totalmente aleatória\n",
    "study_random = optuna.create_study(sampler=RandomSampler(seed=1), direction=\"maximize\")\n",
    "#colocamos 30 tentativas\n",
    "study_random.optimize(funcao_objetivo, n_trials=30)"
   ]
  },
  {
   "cell_type": "markdown",
   "metadata": {},
   "source": [
    "Veja os pontos analisados e a melhor solução encontrada usando esse método além da comparação com o valor ótimo (que seria 0.25): "
   ]
  },
  {
   "cell_type": "code",
   "execution_count": 6,
   "metadata": {},
   "outputs": [
    {
     "name": "stdout",
     "output_type": "stream",
     "text": [
      "Melhor ponto: 0.7763346800671389 ponto ótimo: 0.25 diferença: 0.5263346800671389\n"
     ]
    },
    {
     "data": {
      "image/png": "[encoded data removed]",
      "text/plain": [
       "<Figure size 432x288 with 1 Axes>"
      ]
     },
     "metadata": {
      "needs_background": "light"
     },
     "output_type": "display_data"
    }
   ],
   "source": [
    "def plot_best_trials(study,x_otimo):\n",
    "    desenha_funcao()\n",
    "\n",
    "    #obtem o valor de paramtro x e o resultado para cada tentativa testada e armazena no vetor\n",
    "    #para cada um desses valores, plota no grafico \n",
    "    for trial in study.get_trials():\n",
    "        x = trial.params[\"x\"]\n",
    "        y = trial.value\n",
    "        #apresenta apenas pontos com diferença < 20 do ponto otimo\n",
    "        diff_otimo = abs(x_otimo-x)\n",
    "        plt.scatter(x, y,marker=\"o\")\n",
    "    best_x = study.best_trial.params['x']\n",
    "    print(f\"Melhor ponto: {best_x} ponto ótimo: {x_otimo} diferença: {abs(best_x-x_otimo)}\")\n",
    "plot_best_trials(study_random,0.25)"
   ]
  },
  {
   "cell_type": "markdown",
   "metadata": {},
   "source": [
    "Veja que, com a busca aleatória, encontramos um valor muito diferente do ideal. Agora, se fizermos uma busca usando o método Tree Partzen Estimator:"
   ]
  },
  {
   "cell_type": "code",
   "execution_count": 7,
   "metadata": {},
   "outputs": [
    {
     "name": "stderr",
     "output_type": "stream",
     "text": [
      "\u001b[32m[I 2021-03-02 06:40:42,583]\u001b[0m A new study created in memory with name: no-name-2c93c097-40eb-4950-8d57-3d0580150bda\u001b[0m\n",
      "\u001b[32m[I 2021-03-02 06:40:42,584]\u001b[0m Trial 0 finished with value: -3.1678380688122374 and parameters: {'x': -1.6595599059485195}. Best is trial 0 with value: -3.1678380688122374.\u001b[0m\n",
      "\u001b[32m[I 2021-03-02 06:40:42,585]\u001b[0m Trial 1 finished with value: -30.427816059591684 and parameters: {'x': 4.4064898688431615}. Best is trial 0 with value: -3.1678380688122374.\u001b[0m\n",
      "\u001b[32m[I 2021-03-02 06:40:42,586]\u001b[0m Trial 2 finished with value: -205.90622311505624 and parameters: {'x': -9.997712503653101}. Best is trial 0 with value: -3.1678380688122374.\u001b[0m\n",
      "\u001b[32m[I 2021-03-02 06:40:42,587]\u001b[0m Trial 3 finished with value: -31.211278021240723 and parameters: {'x': -3.9533485473632046}. Best is trial 0 with value: -3.1678380688122374.\u001b[0m\n",
      "\u001b[32m[I 2021-03-02 06:40:42,588]\u001b[0m Trial 4 finished with value: -102.89000272158682 and parameters: {'x': -7.064882183657739}. Best is trial 0 with value: -3.1678380688122374.\u001b[0m\n",
      "\u001b[32m[I 2021-03-02 06:40:42,589]\u001b[0m Trial 5 finished with value: -137.10348515668684 and parameters: {'x': -8.153228104624045}. Best is trial 0 with value: -3.1678380688122374.\u001b[0m\n",
      "\u001b[32m[I 2021-03-02 06:40:42,590]\u001b[0m Trial 6 finished with value: -81.02091974427358 and parameters: {'x': -6.274795772446582}. Best is trial 0 with value: -3.1678380688122374.\u001b[0m\n",
      "\u001b[32m[I 2021-03-02 06:40:42,590]\u001b[0m Trial 7 finished with value: -18.169976684316644 and parameters: {'x': -3.0887854591390447}. Best is trial 0 with value: -3.1678380688122374.\u001b[0m\n",
      "\u001b[32m[I 2021-03-02 06:40:42,591]\u001b[0m Trial 8 finished with value: -6.590214016758917 and parameters: {'x': -2.0646505153866013}. Best is trial 0 with value: -3.1678380688122374.\u001b[0m\n",
      "\u001b[32m[I 2021-03-02 06:40:42,592]\u001b[0m Trial 9 finished with value: 3.5709436091172453 and parameters: {'x': 0.7763346800671389}. Best is trial 9 with value: 3.5709436091172453.\u001b[0m\n",
      "\u001b[32m[I 2021-03-02 06:40:42,616]\u001b[0m Trial 10 finished with value: -170.65527760897447 and parameters: {'x': 9.598269294606743}. Best is trial 9 with value: 3.5709436091172453.\u001b[0m\n",
      "\u001b[32m[I 2021-03-02 06:40:42,621]\u001b[0m Trial 11 finished with value: -3.903759585800641 and parameters: {'x': 2.253591723106362}. Best is trial 9 with value: 3.5709436091172453.\u001b[0m\n",
      "\u001b[32m[I 2021-03-02 06:40:42,624]\u001b[0m Trial 12 finished with value: 1.8236069680017408 and parameters: {'x': 1.3227052325774913}. Best is trial 9 with value: 3.5709436091172453.\u001b[0m\n",
      "\u001b[32m[I 2021-03-02 06:40:42,628]\u001b[0m Trial 13 finished with value: -57.771573523028025 and parameters: {'x': 5.81311843856609}. Best is trial 9 with value: 3.5709436091172453.\u001b[0m\n",
      "\u001b[32m[I 2021-03-02 06:40:42,631]\u001b[0m Trial 14 finished with value: 1.823065926624384 and parameters: {'x': 1.322831317909674}. Best is trial 9 with value: 3.5709436091172453.\u001b[0m\n",
      "\u001b[32m[I 2021-03-02 06:40:42,634]\u001b[0m Trial 15 finished with value: -113.07338153578428 and parameters: {'x': 7.905010827418348}. Best is trial 9 with value: 3.5709436091172453.\u001b[0m\n",
      "\u001b[32m[I 2021-03-02 06:40:42,637]\u001b[0m Trial 16 finished with value: -17.575574003739806 and parameters: {'x': 3.543977383327017}. Best is trial 9 with value: 3.5709436091172453.\u001b[0m\n",
      "\u001b[32m[I 2021-03-02 06:40:42,640]\u001b[0m Trial 17 finished with value: 3.840525807192952 and parameters: {'x': -0.12714333668185618}. Best is trial 17 with value: 3.840525807192952.\u001b[0m\n",
      "\u001b[32m[I 2021-03-02 06:40:42,644]\u001b[0m Trial 18 finished with value: 3.3145297614067615 and parameters: {'x': -0.38658080343081286}. Best is trial 17 with value: 3.840525807192952.\u001b[0m\n",
      "\u001b[32m[I 2021-03-02 06:40:42,647]\u001b[0m Trial 19 finished with value: -51.28174218902672 and parameters: {'x': -5.0133991958157}. Best is trial 17 with value: 3.840525807192952.\u001b[0m\n",
      "\u001b[32m[I 2021-03-02 06:40:42,650]\u001b[0m Trial 20 finished with value: -52.92154036828853 and parameters: {'x': 5.5907181337479575}. Best is trial 17 with value: 3.840525807192952.\u001b[0m\n",
      "\u001b[32m[I 2021-03-02 06:40:42,653]\u001b[0m Trial 21 finished with value: 3.426782789835765 and parameters: {'x': -0.34085413181437385}. Best is trial 17 with value: 3.840525807192952.\u001b[0m\n",
      "\u001b[32m[I 2021-03-02 06:40:42,657]\u001b[0m Trial 22 finished with value: 3.6630301900256494 and parameters: {'x': -0.23060888983369338}. Best is trial 17 with value: 3.840525807192952.\u001b[0m\n",
      "\u001b[32m[I 2021-03-02 06:40:42,661]\u001b[0m Trial 23 finished with value: 4.109237344758765 and parameters: {'x': 0.1612231583090628}. Best is trial 23 with value: 4.109237344758765.\u001b[0m\n",
      "\u001b[32m[I 2021-03-02 06:40:42,665]\u001b[0m Trial 24 finished with value: -2.932842992823412 and parameters: {'x': -1.628542386109961}. Best is trial 23 with value: 4.109237344758765.\u001b[0m\n",
      "\u001b[32m[I 2021-03-02 06:40:42,669]\u001b[0m Trial 25 finished with value: -6.387243546259825 and parameters: {'x': 2.542623338695197}. Best is trial 23 with value: 4.109237344758765.\u001b[0m\n",
      "\u001b[32m[I 2021-03-02 06:40:42,674]\u001b[0m Trial 26 finished with value: 3.501226603634844 and parameters: {'x': -0.30846817114548086}. Best is trial 23 with value: 4.109237344758765.\u001b[0m\n",
      "\u001b[32m[I 2021-03-02 06:40:42,678]\u001b[0m Trial 27 finished with value: -22.301813717868164 and parameters: {'x': -3.385025014897983}. Best is trial 23 with value: 4.109237344758765.\u001b[0m\n",
      "\u001b[32m[I 2021-03-02 06:40:42,682]\u001b[0m Trial 28 finished with value: -26.60839334119051 and parameters: {'x': 4.170037840454509}. Best is trial 23 with value: 4.109237344758765.\u001b[0m\n",
      "\u001b[32m[I 2021-03-02 06:40:42,686]\u001b[0m Trial 29 finished with value: -3.029589385533958 and parameters: {'x': -1.6413737580835204}. Best is trial 23 with value: 4.109237344758765.\u001b[0m\n"
     ]
    }
   ],
   "source": [
    "from optuna.samplers import TPESampler\n",
    "#Para o TPE, é importante passar o numero de tentativas iniciais\n",
    "#essas serão as unicas que serão totalmente aleatorias para explorar o espaço\n",
    "tpe_sampler = TPESampler(n_startup_trials = 10,seed=1)\n",
    "study_TP = optuna.create_study(sampler=tpe_sampler, direction=\"maximize\")\n",
    "#colocamos 30 tentativas (destas, 10 serão aleatorias e, o restante, considerando o algoritmo)\n",
    "study_TP.optimize(funcao_objetivo, n_trials=30)"
   ]
  },
  {
   "cell_type": "code",
   "execution_count": 9,
   "metadata": {},
   "outputs": [
    {
     "name": "stdout",
     "output_type": "stream",
     "text": [
      "Melhor ponto: 0.1612231583090628 ponto ótimo: 0.25 diferença: 0.08877684169093719\n"
     ]
    },
    {
     "data": {
      "image/png": "[encoded data removed]",
      "text/plain": [
       "<Figure size 432x288 with 1 Axes>"
      ]
     },
     "metadata": {
      "needs_background": "light"
     },
     "output_type": "display_data"
    }
   ],
   "source": [
    "plot_best_trials(study_TP,0.25)"
   ]
  },
  {
   "cell_type": "markdown",
   "metadata": {},
   "source": [
    "Veja que na busca usando o TPE houveram mais tentativas próximas ao ponto ótimo e a melhor solução ficou muito mais próxima ao ponto ótimo."
   ]
  },
  {
   "cell_type": "markdown",
   "metadata": {},
   "source": [
    "## Optuna em um método de aprendizado de máquina"
   ]
  },
  {
   "cell_type": "markdown",
   "metadata": {},
   "source": [
    "Fizemos um exemplo ilustrativo e agora iremos mostrar como aplicar Optuna para avaliar parametros de um método de aprendizado de Máquina. O Optuna será aplicado em um fold. Ou seja, para um determinado fold, deverá ser avaliado qual é o melhor parametro, sempre usando os folds de validação desse fold. \n",
    "\n",
    "Veja um esqueleto do código que poderia ser feito, usando uma função dentro da outra:"
   ]
  },
  {
   "cell_type": "code",
   "execution_count": 10,
   "metadata": {},
   "outputs": [
    {
     "name": "stderr",
     "output_type": "stream",
     "text": [
      "\u001b[32m[I 2021-03-02 06:40:55,052]\u001b[0m A new study created in memory with name: no-name-58d9648b-07ab-4f23-9851-939534090f4a\u001b[0m\n",
      "\u001b[32m[I 2021-03-02 06:40:55,053]\u001b[0m Trial 0 finished with value: 0.5 and parameters: {'x': -1.6595599059485195}. Best is trial 0 with value: 0.5.\u001b[0m\n",
      "\u001b[32m[I 2021-03-02 06:40:55,053]\u001b[0m Trial 1 finished with value: 0.5 and parameters: {'x': 4.4064898688431615}. Best is trial 0 with value: 0.5.\u001b[0m\n",
      "\u001b[32m[I 2021-03-02 06:40:55,054]\u001b[0m Trial 2 finished with value: 0.5 and parameters: {'x': -9.997712503653101}. Best is trial 0 with value: 0.5.\u001b[0m\n",
      "\u001b[32m[I 2021-03-02 06:40:55,055]\u001b[0m Trial 3 finished with value: 0.5 and parameters: {'x': -3.9533485473632046}. Best is trial 0 with value: 0.5.\u001b[0m\n",
      "\u001b[32m[I 2021-03-02 06:40:55,056]\u001b[0m Trial 4 finished with value: 0.5 and parameters: {'x': -7.064882183657739}. Best is trial 0 with value: 0.5.\u001b[0m\n",
      "\u001b[32m[I 2021-03-02 06:40:55,056]\u001b[0m Trial 5 finished with value: 0.5 and parameters: {'x': -8.153228104624045}. Best is trial 0 with value: 0.5.\u001b[0m\n",
      "\u001b[32m[I 2021-03-02 06:40:55,057]\u001b[0m Trial 6 finished with value: 0.5 and parameters: {'x': -6.274795772446582}. Best is trial 0 with value: 0.5.\u001b[0m\n",
      "\u001b[32m[I 2021-03-02 06:40:55,057]\u001b[0m Trial 7 finished with value: 0.5 and parameters: {'x': -3.0887854591390447}. Best is trial 0 with value: 0.5.\u001b[0m\n",
      "\u001b[32m[I 2021-03-02 06:40:55,058]\u001b[0m Trial 8 finished with value: 0.5 and parameters: {'x': -2.0646505153866013}. Best is trial 0 with value: 0.5.\u001b[0m\n",
      "\u001b[32m[I 2021-03-02 06:40:55,058]\u001b[0m Trial 9 finished with value: 0.5 and parameters: {'x': 0.7763346800671389}. Best is trial 0 with value: 0.5.\u001b[0m\n",
      "\u001b[32m[I 2021-03-02 06:40:55,062]\u001b[0m Trial 10 finished with value: 0.5 and parameters: {'x': 9.758419672936258}. Best is trial 0 with value: 0.5.\u001b[0m\n",
      "\u001b[32m[I 2021-03-02 06:40:55,066]\u001b[0m Trial 11 finished with value: 0.5 and parameters: {'x': 3.801079341293411}. Best is trial 0 with value: 0.5.\u001b[0m\n",
      "\u001b[32m[I 2021-03-02 06:40:55,070]\u001b[0m Trial 12 finished with value: 0.5 and parameters: {'x': 5.438919459128679}. Best is trial 0 with value: 0.5.\u001b[0m\n",
      "\u001b[32m[I 2021-03-02 06:40:55,073]\u001b[0m Trial 13 finished with value: 0.5 and parameters: {'x': 2.5544711625313443}. Best is trial 0 with value: 0.5.\u001b[0m\n",
      "\u001b[32m[I 2021-03-02 06:40:55,076]\u001b[0m Trial 14 finished with value: 0.5 and parameters: {'x': 9.66385588886616}. Best is trial 0 with value: 0.5.\u001b[0m\n",
      "\u001b[32m[I 2021-03-02 06:40:55,079]\u001b[0m Trial 15 finished with value: 0.5 and parameters: {'x': 6.9533719340705336}. Best is trial 0 with value: 0.5.\u001b[0m\n",
      "\u001b[32m[I 2021-03-02 06:40:55,082]\u001b[0m Trial 16 finished with value: 0.5 and parameters: {'x': -0.9140030079463146}. Best is trial 0 with value: 0.5.\u001b[0m\n",
      "\u001b[32m[I 2021-03-02 06:40:55,086]\u001b[0m Trial 17 finished with value: 0.5 and parameters: {'x': 8.69128196407393}. Best is trial 0 with value: 0.5.\u001b[0m\n",
      "\u001b[32m[I 2021-03-02 06:40:55,089]\u001b[0m Trial 18 finished with value: 0.5 and parameters: {'x': 7.077208419496685}. Best is trial 0 with value: 0.5.\u001b[0m\n",
      "\u001b[32m[I 2021-03-02 06:40:55,092]\u001b[0m Trial 19 finished with value: 0.5 and parameters: {'x': -1.0500745652694579}. Best is trial 0 with value: 0.5.\u001b[0m\n",
      "\u001b[32m[I 2021-03-02 06:40:55,094]\u001b[0m Trial 20 finished with value: 0.5 and parameters: {'x': 1.1653078698484731}. Best is trial 0 with value: 0.5.\u001b[0m\n",
      "\u001b[32m[I 2021-03-02 06:40:55,098]\u001b[0m Trial 21 finished with value: 0.5 and parameters: {'x': 7.542315073429344}. Best is trial 0 with value: 0.5.\u001b[0m\n",
      "\u001b[32m[I 2021-03-02 06:40:55,100]\u001b[0m Trial 22 finished with value: 0.5 and parameters: {'x': -4.712527744020569}. Best is trial 0 with value: 0.5.\u001b[0m\n",
      "\u001b[32m[I 2021-03-02 06:40:55,103]\u001b[0m Trial 23 finished with value: 0.5 and parameters: {'x': 0.8833182441747445}. Best is trial 0 with value: 0.5.\u001b[0m\n",
      "\u001b[32m[I 2021-03-02 06:40:55,106]\u001b[0m Trial 24 finished with value: 0.5 and parameters: {'x': 2.0213637868706646}. Best is trial 0 with value: 0.5.\u001b[0m\n",
      "\u001b[32m[I 2021-03-02 06:40:55,109]\u001b[0m Trial 25 finished with value: 0.5 and parameters: {'x': -4.366380304133717}. Best is trial 0 with value: 0.5.\u001b[0m\n",
      "\u001b[32m[I 2021-03-02 06:40:55,111]\u001b[0m Trial 26 finished with value: 0.5 and parameters: {'x': -5.167777685395999}. Best is trial 0 with value: 0.5.\u001b[0m\n",
      "\u001b[32m[I 2021-03-02 06:40:55,114]\u001b[0m Trial 27 finished with value: 0.5 and parameters: {'x': 2.1392390739196254}. Best is trial 0 with value: 0.5.\u001b[0m\n",
      "\u001b[32m[I 2021-03-02 06:40:55,117]\u001b[0m Trial 28 finished with value: 0.5 and parameters: {'x': -2.5714174053669514}. Best is trial 0 with value: 0.5.\u001b[0m\n",
      "\u001b[32m[I 2021-03-02 06:40:55,120]\u001b[0m Trial 29 finished with value: 0.5 and parameters: {'x': -5.557131699603913}. Best is trial 0 with value: 0.5.\u001b[0m\n"
     ]
    },
    {
     "name": "stdout",
     "output_type": "stream",
     "text": [
      "Melhor execução: {'x': -1.6595599059485195}\n"
     ]
    }
   ],
   "source": [
    "from optuna.samplers import TPESampler\n",
    "import optuna \n",
    "from tests import Dados\n",
    "from resultado import Fold\n",
    "\n",
    "def executa_fold(fold):\n",
    "    \n",
    "    def objetivo_ap_de_maquina(trial: optuna.Trial):\n",
    "        #suponha que temos o parametro x para ajustar\n",
    "        x = trial.suggest_uniform('x', -10, 10)\n",
    "        \n",
    "        #navega em cada um dos folds de validação \n",
    "        soma = 0\n",
    "        for fold_validacao in fold.arr_folds_validacao:\n",
    "            #1. roda um metodo de aprendizado de maquina para o fold_validacao \n",
    "            #usando o parametro x\n",
    "            \n",
    "            #2. armazena resultado em resultado fold\n",
    "            resultado_fold = 0.5#colcoamos um resultado fixo para funcionar\n",
    "            \n",
    "            #3. faz o somatorio para a media\n",
    "            soma += resultado_fold\n",
    "        #4. a funcao objetivo é retornada como a media dos folds de validação\n",
    "        return soma/len(fold.arr_folds_validacao)\n",
    "    \n",
    "    tpe_sampler = TPESampler(n_startup_trials = 10,seed=1)\n",
    "    study_TP = optuna.create_study(sampler=tpe_sampler, direction=\"maximize\")\n",
    "    #colocamos 30 tentativas (destas, 10 serão aleatorias e, o restante, considerando o algoritmo)\n",
    "    study_TP.optimize(objetivo_ap_de_maquina, n_trials=30)\n",
    "    \n",
    "    print(f\"Melhor execução: {study_TP.best_trial.params}\")\n",
    "    #aplica o melhor parametro no teste\n",
    "    #...\n",
    "fold = Fold(Dados.df_treino,Dados.df_teste,\"realClass\",num_folds_validacao=5,num_repeticoes_validacao=2)\n",
    "executa_fold(fold)"
   ]
  },
  {
   "cell_type": "markdown",
   "metadata": {},
   "source": [
    "Não se preocupe que o resultado que ésempre o mesmo, pois implementamos apenas o esqueleto do codigo e deixamos o resultado fixo como \"0.5\". No lugar disso, deveriamos colocar o resultado do método de aprendizado de máquina (como acurária ou macro f1, por exemplo)."
   ]
  },
  {
   "cell_type": "markdown",
   "metadata": {},
   "source": [
    "O código não ficou tão bom pois, como não podemos criar parametros novos na função objetivo e temos que passar o fold na função objetivo, ela tem que ser uma \"variavel global\" a função. Então, se quisermos fazer dessa forma, a função objetivo sempre será sub-função da função/método que calcula todos os resultados. Isso não fica muito legivel e é pouco flexível. Pois, cada método de aprendizado de máquina possui sua própria variação de parametros. Criar várias funções objetivos dentro de uma função de calculo de resultado não ficaria tão legivel e você não poderia usar essas funções externamente. \n",
    "\n",
    "Para melhorarmos isso, podemos criar uma classe que é \"invocável\" ou seja, um classe em que os objetos podem ser chamados (veja [slides](https://daniel-hasan.github.io/cefet-web-grad/classes/python2/#27) e [video-aula](https://www.youtube.com/watch?v=EXmr7zttGWE&list=PLwIaU1DGYV6skjkahOKtpgs9bPXlrVrIp&index=10)). Assim, o fold seria um atributo dessa classe e o código ficaria mais limpo, da seguinte forma: "
   ]
  },
  {
   "cell_type": "code",
   "execution_count": 11,
   "metadata": {},
   "outputs": [
    {
     "name": "stderr",
     "output_type": "stream",
     "text": [
      "\u001b[32m[I 2021-03-02 06:40:59,745]\u001b[0m A new study created in memory with name: no-name-3506758e-064e-4927-9480-24c5cd41ed2c\u001b[0m\n",
      "\u001b[32m[I 2021-03-02 06:40:59,746]\u001b[0m Trial 0 finished with value: 0.5 and parameters: {'x': -1.6595599059485195}. Best is trial 0 with value: 0.5.\u001b[0m\n",
      "\u001b[32m[I 2021-03-02 06:40:59,747]\u001b[0m Trial 1 finished with value: 0.5 and parameters: {'x': 4.4064898688431615}. Best is trial 0 with value: 0.5.\u001b[0m\n",
      "\u001b[32m[I 2021-03-02 06:40:59,747]\u001b[0m Trial 2 finished with value: 0.5 and parameters: {'x': -9.997712503653101}. Best is trial 0 with value: 0.5.\u001b[0m\n",
      "\u001b[32m[I 2021-03-02 06:40:59,748]\u001b[0m Trial 3 finished with value: 0.5 and parameters: {'x': -3.9533485473632046}. Best is trial 0 with value: 0.5.\u001b[0m\n",
      "\u001b[32m[I 2021-03-02 06:40:59,748]\u001b[0m Trial 4 finished with value: 0.5 and parameters: {'x': -7.064882183657739}. Best is trial 0 with value: 0.5.\u001b[0m\n",
      "\u001b[32m[I 2021-03-02 06:40:59,749]\u001b[0m Trial 5 finished with value: 0.5 and parameters: {'x': -8.153228104624045}. Best is trial 0 with value: 0.5.\u001b[0m\n",
      "\u001b[32m[I 2021-03-02 06:40:59,750]\u001b[0m Trial 6 finished with value: 0.5 and parameters: {'x': -6.274795772446582}. Best is trial 0 with value: 0.5.\u001b[0m\n",
      "\u001b[32m[I 2021-03-02 06:40:59,750]\u001b[0m Trial 7 finished with value: 0.5 and parameters: {'x': -3.0887854591390447}. Best is trial 0 with value: 0.5.\u001b[0m\n",
      "\u001b[32m[I 2021-03-02 06:40:59,751]\u001b[0m Trial 8 finished with value: 0.5 and parameters: {'x': -2.0646505153866013}. Best is trial 0 with value: 0.5.\u001b[0m\n",
      "\u001b[32m[I 2021-03-02 06:40:59,752]\u001b[0m Trial 9 finished with value: 0.5 and parameters: {'x': 0.7763346800671389}. Best is trial 0 with value: 0.5.\u001b[0m\n",
      "\u001b[32m[I 2021-03-02 06:40:59,755]\u001b[0m Trial 10 finished with value: 0.5 and parameters: {'x': 9.758419672936258}. Best is trial 0 with value: 0.5.\u001b[0m\n",
      "\u001b[32m[I 2021-03-02 06:40:59,759]\u001b[0m Trial 11 finished with value: 0.5 and parameters: {'x': 3.801079341293411}. Best is trial 0 with value: 0.5.\u001b[0m\n",
      "\u001b[32m[I 2021-03-02 06:40:59,762]\u001b[0m Trial 12 finished with value: 0.5 and parameters: {'x': 5.438919459128679}. Best is trial 0 with value: 0.5.\u001b[0m\n",
      "\u001b[32m[I 2021-03-02 06:40:59,765]\u001b[0m Trial 13 finished with value: 0.5 and parameters: {'x': 2.5544711625313443}. Best is trial 0 with value: 0.5.\u001b[0m\n",
      "\u001b[32m[I 2021-03-02 06:40:59,768]\u001b[0m Trial 14 finished with value: 0.5 and parameters: {'x': 9.66385588886616}. Best is trial 0 with value: 0.5.\u001b[0m\n",
      "\u001b[32m[I 2021-03-02 06:40:59,773]\u001b[0m Trial 15 finished with value: 0.5 and parameters: {'x': 6.9533719340705336}. Best is trial 0 with value: 0.5.\u001b[0m\n",
      "\u001b[32m[I 2021-03-02 06:40:59,777]\u001b[0m Trial 16 finished with value: 0.5 and parameters: {'x': -0.9140030079463146}. Best is trial 0 with value: 0.5.\u001b[0m\n",
      "\u001b[32m[I 2021-03-02 06:40:59,780]\u001b[0m Trial 17 finished with value: 0.5 and parameters: {'x': 8.69128196407393}. Best is trial 0 with value: 0.5.\u001b[0m\n",
      "\u001b[32m[I 2021-03-02 06:40:59,783]\u001b[0m Trial 18 finished with value: 0.5 and parameters: {'x': 7.077208419496685}. Best is trial 0 with value: 0.5.\u001b[0m\n",
      "\u001b[32m[I 2021-03-02 06:40:59,786]\u001b[0m Trial 19 finished with value: 0.5 and parameters: {'x': -1.0500745652694579}. Best is trial 0 with value: 0.5.\u001b[0m\n",
      "\u001b[32m[I 2021-03-02 06:40:59,788]\u001b[0m Trial 20 finished with value: 0.5 and parameters: {'x': 1.1653078698484731}. Best is trial 0 with value: 0.5.\u001b[0m\n",
      "\u001b[32m[I 2021-03-02 06:40:59,791]\u001b[0m Trial 21 finished with value: 0.5 and parameters: {'x': 7.542315073429344}. Best is trial 0 with value: 0.5.\u001b[0m\n",
      "\u001b[32m[I 2021-03-02 06:40:59,796]\u001b[0m Trial 22 finished with value: 0.5 and parameters: {'x': -4.712527744020569}. Best is trial 0 with value: 0.5.\u001b[0m\n",
      "\u001b[32m[I 2021-03-02 06:40:59,802]\u001b[0m Trial 23 finished with value: 0.5 and parameters: {'x': 0.8833182441747445}. Best is trial 0 with value: 0.5.\u001b[0m\n",
      "\u001b[32m[I 2021-03-02 06:40:59,807]\u001b[0m Trial 24 finished with value: 0.5 and parameters: {'x': 2.0213637868706646}. Best is trial 0 with value: 0.5.\u001b[0m\n",
      "\u001b[32m[I 2021-03-02 06:40:59,813]\u001b[0m Trial 25 finished with value: 0.5 and parameters: {'x': -4.366380304133717}. Best is trial 0 with value: 0.5.\u001b[0m\n",
      "\u001b[32m[I 2021-03-02 06:40:59,816]\u001b[0m Trial 26 finished with value: 0.5 and parameters: {'x': -5.167777685395999}. Best is trial 0 with value: 0.5.\u001b[0m\n",
      "\u001b[32m[I 2021-03-02 06:40:59,819]\u001b[0m Trial 27 finished with value: 0.5 and parameters: {'x': 2.1392390739196254}. Best is trial 0 with value: 0.5.\u001b[0m\n",
      "\u001b[32m[I 2021-03-02 06:40:59,825]\u001b[0m Trial 28 finished with value: 0.5 and parameters: {'x': -2.5714174053669514}. Best is trial 0 with value: 0.5.\u001b[0m\n",
      "\u001b[32m[I 2021-03-02 06:40:59,828]\u001b[0m Trial 29 finished with value: 0.5 and parameters: {'x': -5.557131699603913}. Best is trial 0 with value: 0.5.\u001b[0m\n"
     ]
    },
    {
     "name": "stdout",
     "output_type": "stream",
     "text": [
      "Melhor execução: {'x': -1.6595599059485195}\n"
     ]
    }
   ],
   "source": [
    "class ObjetivoApDeMaquina:\n",
    "    def __init__(self,fold):\n",
    "        self.fold = fold\n",
    "    def __call__(self, trial: optuna.Trial):\n",
    "        \n",
    "        #suponha que temos o parametro x para ajustar\n",
    "        x = trial.suggest_uniform('x', -10, 10)\n",
    "        \n",
    "        #navega em cada um dos folds de validação \n",
    "        soma = 0\n",
    "        for fold_validacao in fold.arr_folds_validacao:\n",
    "            #1. roda um metodo de aprendizado de maquina para o fold_validacao \n",
    "            #usando o parametro x\n",
    "            \n",
    "            #2. armazena resultado em resultado fold\n",
    "            resultado_fold = 0.5#colcoamos um resultado fixo para funcionar\n",
    "            \n",
    "            #3. faz o somatorio para a media\n",
    "            soma += resultado_fold\n",
    "        #4. a funcao objetivo é retornada como a media dos folds de validação\n",
    "        return soma/len(fold.arr_folds_validacao)\n",
    "def executa_fold(fold):\n",
    "\n",
    "    otimiza_fold = ObjetivoApDeMaquina(fold)\n",
    "    \n",
    "    tpe_sampler = TPESampler(n_startup_trials = 10,seed=1)\n",
    "    study_TP = optuna.create_study(sampler=tpe_sampler, direction=\"maximize\")\n",
    "    #colocamos 30 tentativas (destas, 10 serão aleatorias e, o restante, considerando o algoritmo)\n",
    "    study_TP.optimize(otimiza_fold, n_trials=30)\n",
    "    \n",
    "    print(f\"Melhor execução: {study_TP.best_trial.params}\")\n",
    "    #aplica o melhor parametro no teste\n",
    "    #...\n",
    "fold = Fold(Dados.df_treino,Dados.df_teste,\"realClass\",num_folds_validacao=5,num_repeticoes_validacao=2)\n",
    "executa_fold(fold)\n"
   ]
  },
  {
   "cell_type": "markdown",
   "metadata": {},
   "source": [
    "Para ficar mais flexivel ainda, como podemos possuir várias classes - uma para cada método -, podemos passar **classe como parametro**:"
   ]
  },
  {
   "cell_type": "code",
   "execution_count": 12,
   "metadata": {},
   "outputs": [
    {
     "name": "stderr",
     "output_type": "stream",
     "text": [
      "\u001b[32m[I 2021-03-02 06:41:03,650]\u001b[0m A new study created in memory with name: no-name-68736412-fef8-4dd4-9a73-e76916631058\u001b[0m\n",
      "\u001b[32m[I 2021-03-02 06:41:03,651]\u001b[0m Trial 0 finished with value: 0.5 and parameters: {'x': -1.6595599059485195}. Best is trial 0 with value: 0.5.\u001b[0m\n",
      "\u001b[32m[I 2021-03-02 06:41:03,652]\u001b[0m Trial 1 finished with value: 0.5 and parameters: {'x': 4.4064898688431615}. Best is trial 0 with value: 0.5.\u001b[0m\n",
      "\u001b[32m[I 2021-03-02 06:41:03,653]\u001b[0m Trial 2 finished with value: 0.5 and parameters: {'x': -9.997712503653101}. Best is trial 0 with value: 0.5.\u001b[0m\n",
      "\u001b[32m[I 2021-03-02 06:41:03,654]\u001b[0m Trial 3 finished with value: 0.5 and parameters: {'x': -3.9533485473632046}. Best is trial 0 with value: 0.5.\u001b[0m\n",
      "\u001b[32m[I 2021-03-02 06:41:03,655]\u001b[0m Trial 4 finished with value: 0.5 and parameters: {'x': -7.064882183657739}. Best is trial 0 with value: 0.5.\u001b[0m\n",
      "\u001b[32m[I 2021-03-02 06:41:03,656]\u001b[0m Trial 5 finished with value: 0.5 and parameters: {'x': -8.153228104624045}. Best is trial 0 with value: 0.5.\u001b[0m\n",
      "\u001b[32m[I 2021-03-02 06:41:03,657]\u001b[0m Trial 6 finished with value: 0.5 and parameters: {'x': -6.274795772446582}. Best is trial 0 with value: 0.5.\u001b[0m\n",
      "\u001b[32m[I 2021-03-02 06:41:03,658]\u001b[0m Trial 7 finished with value: 0.5 and parameters: {'x': -3.0887854591390447}. Best is trial 0 with value: 0.5.\u001b[0m\n",
      "\u001b[32m[I 2021-03-02 06:41:03,659]\u001b[0m Trial 8 finished with value: 0.5 and parameters: {'x': -2.0646505153866013}. Best is trial 0 with value: 0.5.\u001b[0m\n",
      "\u001b[32m[I 2021-03-02 06:41:03,659]\u001b[0m Trial 9 finished with value: 0.5 and parameters: {'x': 0.7763346800671389}. Best is trial 0 with value: 0.5.\u001b[0m\n",
      "\u001b[32m[I 2021-03-02 06:41:03,664]\u001b[0m Trial 10 finished with value: 0.5 and parameters: {'x': 9.758419672936258}. Best is trial 0 with value: 0.5.\u001b[0m\n",
      "\u001b[32m[I 2021-03-02 06:41:03,668]\u001b[0m Trial 11 finished with value: 0.5 and parameters: {'x': 3.801079341293411}. Best is trial 0 with value: 0.5.\u001b[0m\n",
      "\u001b[32m[I 2021-03-02 06:41:03,672]\u001b[0m Trial 12 finished with value: 0.5 and parameters: {'x': 5.438919459128679}. Best is trial 0 with value: 0.5.\u001b[0m\n",
      "\u001b[32m[I 2021-03-02 06:41:03,675]\u001b[0m Trial 13 finished with value: 0.5 and parameters: {'x': 2.5544711625313443}. Best is trial 0 with value: 0.5.\u001b[0m\n",
      "\u001b[32m[I 2021-03-02 06:41:03,678]\u001b[0m Trial 14 finished with value: 0.5 and parameters: {'x': 9.66385588886616}. Best is trial 0 with value: 0.5.\u001b[0m\n",
      "\u001b[32m[I 2021-03-02 06:41:03,681]\u001b[0m Trial 15 finished with value: 0.5 and parameters: {'x': 6.9533719340705336}. Best is trial 0 with value: 0.5.\u001b[0m\n",
      "\u001b[32m[I 2021-03-02 06:41:03,684]\u001b[0m Trial 16 finished with value: 0.5 and parameters: {'x': -0.9140030079463146}. Best is trial 0 with value: 0.5.\u001b[0m\n",
      "\u001b[32m[I 2021-03-02 06:41:03,688]\u001b[0m Trial 17 finished with value: 0.5 and parameters: {'x': 8.69128196407393}. Best is trial 0 with value: 0.5.\u001b[0m\n",
      "\u001b[32m[I 2021-03-02 06:41:03,691]\u001b[0m Trial 18 finished with value: 0.5 and parameters: {'x': 7.077208419496685}. Best is trial 0 with value: 0.5.\u001b[0m\n",
      "\u001b[32m[I 2021-03-02 06:41:03,693]\u001b[0m Trial 19 finished with value: 0.5 and parameters: {'x': -1.0500745652694579}. Best is trial 0 with value: 0.5.\u001b[0m\n",
      "\u001b[32m[I 2021-03-02 06:41:03,697]\u001b[0m Trial 20 finished with value: 0.5 and parameters: {'x': 1.1653078698484731}. Best is trial 0 with value: 0.5.\u001b[0m\n",
      "\u001b[32m[I 2021-03-02 06:41:03,700]\u001b[0m Trial 21 finished with value: 0.5 and parameters: {'x': 7.542315073429344}. Best is trial 0 with value: 0.5.\u001b[0m\n",
      "\u001b[32m[I 2021-03-02 06:41:03,703]\u001b[0m Trial 22 finished with value: 0.5 and parameters: {'x': -4.712527744020569}. Best is trial 0 with value: 0.5.\u001b[0m\n",
      "\u001b[32m[I 2021-03-02 06:41:03,708]\u001b[0m Trial 23 finished with value: 0.5 and parameters: {'x': 0.8833182441747445}. Best is trial 0 with value: 0.5.\u001b[0m\n",
      "\u001b[32m[I 2021-03-02 06:41:03,711]\u001b[0m Trial 24 finished with value: 0.5 and parameters: {'x': 2.0213637868706646}. Best is trial 0 with value: 0.5.\u001b[0m\n",
      "\u001b[32m[I 2021-03-02 06:41:03,714]\u001b[0m Trial 25 finished with value: 0.5 and parameters: {'x': -4.366380304133717}. Best is trial 0 with value: 0.5.\u001b[0m\n",
      "\u001b[32m[I 2021-03-02 06:41:03,718]\u001b[0m Trial 26 finished with value: 0.5 and parameters: {'x': -5.167777685395999}. Best is trial 0 with value: 0.5.\u001b[0m\n",
      "\u001b[32m[I 2021-03-02 06:41:03,723]\u001b[0m Trial 27 finished with value: 0.5 and parameters: {'x': 2.1392390739196254}. Best is trial 0 with value: 0.5.\u001b[0m\n",
      "\u001b[32m[I 2021-03-02 06:41:03,726]\u001b[0m Trial 28 finished with value: 0.5 and parameters: {'x': -2.5714174053669514}. Best is trial 0 with value: 0.5.\u001b[0m\n",
      "\u001b[32m[I 2021-03-02 06:41:03,729]\u001b[0m Trial 29 finished with value: 0.5 and parameters: {'x': -5.557131699603913}. Best is trial 0 with value: 0.5.\u001b[0m\n"
     ]
    },
    {
     "name": "stdout",
     "output_type": "stream",
     "text": [
      "Melhor execução: {'x': -1.6595599059485195}\n"
     ]
    }
   ],
   "source": [
    "class ObjetivoApDeMaquina:\n",
    "    def __init__(self,fold):\n",
    "        self.fold = fold\n",
    "    def __call__(self, trial: optuna.Trial):\n",
    "                #suponha que temos o parametro x para ajustar\n",
    "        x = trial.suggest_uniform('x', -10, 10)\n",
    "        \n",
    "        #navega em cada um dos folds de validação \n",
    "        soma = 0\n",
    "        for fold_validacao in fold.arr_folds_validacao:\n",
    "            #1. roda um metodo de aprendizado de maquina para o fold_validacao \n",
    "            #usando o parametro x\n",
    "            \n",
    "            #2. armazena resultado em resultado fold\n",
    "            resultado_fold = 0.5#colcoamos um resultado fixo para funcionar\n",
    "            \n",
    "            #3. faz o somatorio para a media\n",
    "            soma += resultado_fold\n",
    "        #4. a funcao objetivo é retornada como a media dos folds de validação\n",
    "        return soma/len(fold.arr_folds_validacao)\n",
    "def executa_fold(fold, ClasseObjetivo):\n",
    "\n",
    "    otimiza_fold = ClasseObjetivo(fold)\n",
    "    \n",
    "    tpe_sampler = TPESampler(n_startup_trials = 10,seed=1)\n",
    "    study_TP = optuna.create_study(sampler=tpe_sampler, direction=\"maximize\")\n",
    "    #colocamos 30 tentativas (destas, 10 serão aleatorias e, o restante, considerando o algoritmo)\n",
    "    study_TP.optimize(otimiza_fold, n_trials=30)\n",
    "    \n",
    "    print(f\"Melhor execução: {study_TP.best_trial.params}\")\n",
    "    #aplica o melhor parametro no teste\n",
    "    #...\n",
    "fold = Fold(Dados.df_treino,Dados.df_teste,\"realClass\",num_folds_validacao=5,num_repeticoes_validacao=2)\n",
    "executa_fold(fold, ObjetivoApDeMaquina)\n"
   ]
  },
  {
   "cell_type": "markdown",
   "metadata": {},
   "source": [
    "O código que vocês irão implementar será muito similar a esses. O arquivo `avaliacao.py` já possui o esqueleto do código para vocês continuarem. A classe `Experimento` é responsável por fazer toda a experimentação, por meio de uma lista de folds e um método de aprendizado de maquina (que são parametros do construtor): (1) para cada fold, descobre-se os melhores parametros usando o(s) fold(s) de validação; (2) com o melhor parametro, é criado o modelo e aplicado o teste. Essa classe é similar também a função `executa_fold` porém um pouco maior - aplicando-se a diversos folds e a um método de aprendizado de máquina em específico. \n",
    "\n",
    "Além disso, temos que implementar as classes de otimização de parametro. A classe `OtimizacaoObjetivo` é a superclasse que possui o esqueleto do que deve ser feito para a otimização de um parametro - similar ao funcionamento da classe `ObjetivoApDeMaquina` acima, porém, temos também um vetor `arr_evaluated_methods` que armazena o método foi executado em cada tentativa - com os seus parametros já definidos. \n",
    "\n",
    "Como pode-se observar, essa classe possui métodos abstratos (ou seja, que devem ser implementados pela suas subclasses). São eles: `obtem_metodo` e o `resultado-metrica_otimizacao`. Pois, cada subclasse será referente a um método (com seus parametros) e, dependendo do método, pode-se ser retornado um valor diferente em `resultado_metrica_otimizacao` (macro F1, por exemplo) dependendo, inclusive, do contexto do problema. Veja como a classe `OtimizacaoObjetivoArvoreDecisao`, uma das subclasses, está implementada. "
   ]
  },
  {
   "cell_type": "markdown",
   "metadata": {},
   "source": [
    "Assim, faça as seguintes atividades: "
   ]
  },
  {
   "cell_type": "markdown",
   "metadata": {},
   "source": [
    "**Atividade 4 classe OtimizacaoObjetivoRandomForest**: No método `obtem_metodo` crie um modelo para a [RandomForest do scikitlearn](http://scikit-learn.org/stable/modules/generated/sklearn.ensemble.RandomForestClassifier.html) que você deverá variar os seguintes parametros: \n",
    "    - min_samples_split: de 0 a 0.5\n",
    "    - max_features: de 0  a 0.5\n",
    "    - num_arvores: inteiro de 1 a `self.num_arvores_max` (use o suggest_int)\n",
    "O método `resultado_metrica_otimizacao` deve retornar a macro F1 do resultado passado como parametro. "
   ]
  },
  {
   "cell_type": "code",
   "execution_count": 13,
   "metadata": {},
   "outputs": [
    {
     "name": "stdout",
     "output_type": "stream",
     "text": [
      "\u001b[32m[I 2021-03-02 06:41:09,949]\u001b[0m A new study created in memory with name: no-name-c9e8a4cd-3d1b-4f36-8d93-e51f6fd9656b\u001b[0m\n",
      "/home/negreiros/workdir/cefet/7periodo/machine-learning/avaliacao/resultado.py:73: UndefinedMetricWarning: Não há elementos previstos para a classe 1 precisão foi definida como zero.\n",
      "  warnings.warn(\"Não há elementos previstos para a classe \"+str(classe)+\" precisão foi definida como zero.\", UndefinedMetricWarning)\n",
      "/home/negreiros/workdir/cefet/7periodo/machine-learning/avaliacao/resultado.py:73: UndefinedMetricWarning: Não há elementos previstos para a classe 1 precisão foi definida como zero.\n",
      "  warnings.warn(\"Não há elementos previstos para a classe \"+str(classe)+\" precisão foi definida como zero.\", UndefinedMetricWarning)\n",
      "/home/negreiros/workdir/cefet/7periodo/machine-learning/avaliacao/resultado.py:73: UndefinedMetricWarning: Não há elementos previstos para a classe 1 precisão foi definida como zero.\n",
      "  warnings.warn(\"Não há elementos previstos para a classe \"+str(classe)+\" precisão foi definida como zero.\", UndefinedMetricWarning)\n",
      "/home/negreiros/workdir/cefet/7periodo/machine-learning/avaliacao/resultado.py:73: UndefinedMetricWarning: Não há elementos previstos para a classe 1 precisão foi definida como zero.\n",
      "  warnings.warn(\"Não há elementos previstos para a classe \"+str(classe)+\" precisão foi definida como zero.\", UndefinedMetricWarning)\n",
      "\u001b[32m[I 2021-03-02 06:41:09,987]\u001b[0m Trial 0 finished with value: 0.4055555555555556 and parameters: {'min_samples_split': 0.208511002351287, 'max_features': 0.36016224672107905, 'num_arvores': 2}. Best is trial 0 with value: 0.4055555555555556.\u001b[0m\n",
      "/home/negreiros/workdir/cefet/7periodo/machine-learning/avaliacao/resultado.py:73: UndefinedMetricWarning: Não há elementos previstos para a classe 0 precisão foi definida como zero.\n",
      "  warnings.warn(\"Não há elementos previstos para a classe \"+str(classe)+\" precisão foi definida como zero.\", UndefinedMetricWarning)\n",
      "/home/negreiros/workdir/cefet/7periodo/machine-learning/avaliacao/resultado.py:73: UndefinedMetricWarning: Não há elementos previstos para a classe 0 precisão foi definida como zero.\n",
      "  warnings.warn(\"Não há elementos previstos para a classe \"+str(classe)+\" precisão foi definida como zero.\", UndefinedMetricWarning)\n",
      "\u001b[32m[I 2021-03-02 06:41:10,019]\u001b[0m Trial 1 finished with value: 0.3194444444444444 and parameters: {'min_samples_split': 0.15116628631591988, 'max_features': 0.07337794540855652, 'num_arvores': 1}. Best is trial 0 with value: 0.4055555555555556.\u001b[0m\n",
      "/home/negreiros/workdir/cefet/7periodo/machine-learning/avaliacao/resultado.py:73: UndefinedMetricWarning: Não há elementos previstos para a classe 0 precisão foi definida como zero.\n",
      "  warnings.warn(\"Não há elementos previstos para a classe \"+str(classe)+\" precisão foi definida como zero.\", UndefinedMetricWarning)\n",
      "\u001b[32m[I 2021-03-02 06:41:10,068]\u001b[0m Trial 2 finished with value: 0.48055555555555557 and parameters: {'min_samples_split': 0.19829036364801306, 'max_features': 0.1939553705810037, 'num_arvores': 5}. Best is trial 2 with value: 0.48055555555555557.\u001b[0m\n",
      "/home/negreiros/workdir/cefet/7periodo/machine-learning/avaliacao/resultado.py:73: UndefinedMetricWarning: Não há elementos previstos para a classe 0 precisão foi definida como zero.\n",
      "  warnings.warn(\"Não há elementos previstos para a classe \"+str(classe)+\" precisão foi definida como zero.\", UndefinedMetricWarning)\n",
      "\u001b[32m[I 2021-03-02 06:41:10,106]\u001b[0m Trial 3 finished with value: 0.48055555555555557 and parameters: {'min_samples_split': 0.19838373711533497, 'max_features': 0.2694083670016785, 'num_arvores': 3}. Best is trial 2 with value: 0.48055555555555557.\u001b[0m\n",
      "/home/negreiros/workdir/cefet/7periodo/machine-learning/avaliacao/resultado.py:73: UndefinedMetricWarning: Não há elementos previstos para a classe 0 precisão foi definida como zero.\n",
      "  warnings.warn(\"Não há elementos previstos para a classe \"+str(classe)+\" precisão foi definida como zero.\", UndefinedMetricWarning)\n",
      "\u001b[32m[I 2021-03-02 06:41:10,155]\u001b[0m Trial 4 finished with value: 0.48055555555555557 and parameters: {'min_samples_split': 0.2622740797864357, 'max_features': 0.22172644688977833, 'num_arvores': 5}. Best is trial 2 with value: 0.48055555555555557.\u001b[0m\n",
      "/home/negreiros/workdir/cefet/7periodo/machine-learning/avaliacao/resultado.py:73: UndefinedMetricWarning: Não há elementos previstos para a classe 1 precisão foi definida como zero.\n",
      "  warnings.warn(\"Não há elementos previstos para a classe \"+str(classe)+\" precisão foi definida como zero.\", UndefinedMetricWarning)\n",
      "/home/negreiros/workdir/cefet/7periodo/machine-learning/avaliacao/resultado.py:73: UndefinedMetricWarning: Não há elementos previstos para a classe 1 precisão foi definida como zero.\n",
      "  warnings.warn(\"Não há elementos previstos para a classe \"+str(classe)+\" precisão foi definida como zero.\", UndefinedMetricWarning)\n",
      "/home/negreiros/workdir/cefet/7periodo/machine-learning/avaliacao/resultado.py:73: UndefinedMetricWarning: Não há elementos previstos para a classe 1 precisão foi definida como zero.\n",
      "  warnings.warn(\"Não há elementos previstos para a classe \"+str(classe)+\" precisão foi definida como zero.\", UndefinedMetricWarning)\n",
      "/home/negreiros/workdir/cefet/7periodo/machine-learning/avaliacao/resultado.py:73: UndefinedMetricWarning: Não há elementos previstos para a classe 1 precisão foi definida como zero.\n",
      "  warnings.warn(\"Não há elementos previstos para a classe \"+str(classe)+\" precisão foi definida como zero.\", UndefinedMetricWarning)\n",
      "\u001b[32m[I 2021-03-02 06:41:10,189]\u001b[0m Trial 5 finished with value: 0.4055555555555556 and parameters: {'min_samples_split': 0.013693796598963082, 'max_features': 0.3352337550892011, 'num_arvores': 2}. Best is trial 2 with value: 0.48055555555555557.\u001b[0m\n",
      "/home/negreiros/workdir/cefet/7periodo/machine-learning/avaliacao/resultado.py:73: UndefinedMetricWarning: Não há elementos previstos para a classe 1 precisão foi definida como zero.\n",
      "  warnings.warn(\"Não há elementos previstos para a classe \"+str(classe)+\" precisão foi definida como zero.\", UndefinedMetricWarning)\n",
      "/home/negreiros/workdir/cefet/7periodo/machine-learning/avaliacao/resultado.py:73: UndefinedMetricWarning: Não há elementos previstos para a classe 1 precisão foi definida como zero.\n",
      "  warnings.warn(\"Não há elementos previstos para a classe \"+str(classe)+\" precisão foi definida como zero.\", UndefinedMetricWarning)\n",
      "/home/negreiros/workdir/cefet/7periodo/machine-learning/avaliacao/resultado.py:73: UndefinedMetricWarning: Não há elementos previstos para a classe 1 precisão foi definida como zero.\n",
      "  warnings.warn(\"Não há elementos previstos para a classe \"+str(classe)+\" precisão foi definida como zero.\", UndefinedMetricWarning)\n",
      "/home/negreiros/workdir/cefet/7periodo/machine-learning/avaliacao/resultado.py:73: UndefinedMetricWarning: Não há elementos previstos para a classe 1 precisão foi definida como zero.\n",
      "  warnings.warn(\"Não há elementos previstos para a classe \"+str(classe)+\" precisão foi definida como zero.\", UndefinedMetricWarning)\n",
      "\u001b[32m[I 2021-03-02 06:41:10,222]\u001b[0m Trial 6 finished with value: 0.4055555555555556 and parameters: {'min_samples_split': 0.21534928359235422, 'max_features': 0.46956389471181287, 'num_arvores': 2}. Best is trial 2 with value: 0.48055555555555557.\u001b[0m\n",
      "/home/negreiros/workdir/cefet/7periodo/machine-learning/avaliacao/resultado.py:73: UndefinedMetricWarning: Não há elementos previstos para a classe 1 precisão foi definida como zero.\n",
      "  warnings.warn(\"Não há elementos previstos para a classe \"+str(classe)+\" precisão foi definida como zero.\", UndefinedMetricWarning)\n",
      "/home/negreiros/workdir/cefet/7periodo/machine-learning/avaliacao/resultado.py:73: UndefinedMetricWarning: Não há elementos previstos para a classe 0 precisão foi definida como zero.\n",
      "  warnings.warn(\"Não há elementos previstos para a classe \"+str(classe)+\" precisão foi definida como zero.\", UndefinedMetricWarning)\n",
      "/home/negreiros/workdir/cefet/7periodo/machine-learning/avaliacao/resultado.py:73: UndefinedMetricWarning: Não há elementos previstos para a classe 1 precisão foi definida como zero.\n",
      "  warnings.warn(\"Não há elementos previstos para a classe \"+str(classe)+\" precisão foi definida como zero.\", UndefinedMetricWarning)\n",
      "\u001b[32m[I 2021-03-02 06:41:10,254]\u001b[0m Trial 7 finished with value: 0.4305555555555556 and parameters: {'min_samples_split': 0.48413078785969876, 'max_features': 0.15671208907962142, 'num_arvores': 2}. Best is trial 2 with value: 0.48055555555555557.\u001b[0m\n",
      "/home/negreiros/workdir/cefet/7periodo/machine-learning/avaliacao/resultado.py:73: UndefinedMetricWarning: Não há elementos previstos para a classe 1 precisão foi definida como zero.\n",
      "  warnings.warn(\"Não há elementos previstos para a classe \"+str(classe)+\" precisão foi definida como zero.\", UndefinedMetricWarning)\n",
      "/home/negreiros/workdir/cefet/7periodo/machine-learning/avaliacao/resultado.py:73: UndefinedMetricWarning: Não há elementos previstos para a classe 1 precisão foi definida como zero.\n",
      "  warnings.warn(\"Não há elementos previstos para a classe \"+str(classe)+\" precisão foi definida como zero.\", UndefinedMetricWarning)\n",
      "/home/negreiros/workdir/cefet/7periodo/machine-learning/avaliacao/resultado.py:73: UndefinedMetricWarning: Não há elementos previstos para a classe 0 precisão foi definida como zero.\n",
      "  warnings.warn(\"Não há elementos previstos para a classe \"+str(classe)+\" precisão foi definida como zero.\", UndefinedMetricWarning)\n",
      "/home/negreiros/workdir/cefet/7periodo/machine-learning/avaliacao/resultado.py:73: UndefinedMetricWarning: Não há elementos previstos para a classe 0 precisão foi definida como zero.\n",
      "  warnings.warn(\"Não há elementos previstos para a classe \"+str(classe)+\" precisão foi definida como zero.\", UndefinedMetricWarning)\n",
      "/home/negreiros/workdir/cefet/7periodo/machine-learning/avaliacao/resultado.py:73: UndefinedMetricWarning: Não há elementos previstos para a classe 0 precisão foi definida como zero.\n",
      "  warnings.warn(\"Não há elementos previstos para a classe \"+str(classe)+\" precisão foi definida como zero.\", UndefinedMetricWarning)\n"
     ]
    },
    {
     "name": "stdout",
     "output_type": "stream",
     "text": [
      "/home/negreiros/workdir/cefet/7periodo/machine-learning/avaliacao/resultado.py:73: UndefinedMetricWarning: Não há elementos previstos para a classe 1 precisão foi definida como zero.\n",
      "  warnings.warn(\"Não há elementos previstos para a classe \"+str(classe)+\" precisão foi definida como zero.\", UndefinedMetricWarning)\n",
      "\u001b[32m[I 2021-03-02 06:41:10,282]\u001b[0m Trial 8 finished with value: 0.3686507936507937 and parameters: {'min_samples_split': 0.43819457614801915, 'max_features': 0.44730333175192366, 'num_arvores': 1}. Best is trial 2 with value: 0.48055555555555557.\u001b[0m\n",
      "/home/negreiros/workdir/cefet/7periodo/machine-learning/avaliacao/resultado.py:73: UndefinedMetricWarning: Não há elementos previstos para a classe 0 precisão foi definida como zero.\n",
      "  warnings.warn(\"Não há elementos previstos para a classe \"+str(classe)+\" precisão foi definida como zero.\", UndefinedMetricWarning)\n",
      "/home/negreiros/workdir/cefet/7periodo/machine-learning/avaliacao/resultado.py:73: UndefinedMetricWarning: Não há elementos previstos para a classe 1 precisão foi definida como zero.\n",
      "  warnings.warn(\"Não há elementos previstos para a classe \"+str(classe)+\" precisão foi definida como zero.\", UndefinedMetricWarning)\n",
      "\u001b[32m[I 2021-03-02 06:41:10,322]\u001b[0m Trial 9 finished with value: 0.43253968253968256 and parameters: {'min_samples_split': 0.4148016796970918, 'max_features': 0.13652498710837369, 'num_arvores': 3}. Best is trial 2 with value: 0.48055555555555557.\u001b[0m\n",
      "/home/negreiros/workdir/cefet/7periodo/machine-learning/avaliacao/resultado.py:73: UndefinedMetricWarning: Não há elementos previstos para a classe 0 precisão foi definida como zero.\n",
      "  warnings.warn(\"Não há elementos previstos para a classe \"+str(classe)+\" precisão foi definida como zero.\", UndefinedMetricWarning)\n",
      "\u001b[32m[I 2021-03-02 06:41:10,377]\u001b[0m Trial 10 finished with value: 0.48055555555555557 and parameters: {'min_samples_split': 0.05219583088403967, 'max_features': 0.06479321027429591, 'num_arvores': 5}. Best is trial 2 with value: 0.48055555555555557.\u001b[0m\n",
      "/home/negreiros/workdir/cefet/7periodo/machine-learning/avaliacao/resultado.py:73: UndefinedMetricWarning: Não há elementos previstos para a classe 0 precisão foi definida como zero.\n",
      "  warnings.warn(\"Não há elementos previstos para a classe \"+str(classe)+\" precisão foi definida como zero.\", UndefinedMetricWarning)\n",
      "/home/negreiros/workdir/cefet/7periodo/machine-learning/avaliacao/resultado.py:73: UndefinedMetricWarning: Não há elementos previstos para a classe 1 precisão foi definida como zero.\n",
      "  warnings.warn(\"Não há elementos previstos para a classe \"+str(classe)+\" precisão foi definida como zero.\", UndefinedMetricWarning)\n",
      "\u001b[32m[I 2021-03-02 06:41:10,426]\u001b[0m Trial 11 finished with value: 0.30277777777777776 and parameters: {'min_samples_split': 0.31815163380970113, 'max_features': 0.284041978716814, 'num_arvores': 4}. Best is trial 2 with value: 0.48055555555555557.\u001b[0m\n",
      "/home/negreiros/workdir/cefet/7periodo/machine-learning/avaliacao/resultado.py:73: UndefinedMetricWarning: Não há elementos previstos para a classe 0 precisão foi definida como zero.\n",
      "  warnings.warn(\"Não há elementos previstos para a classe \"+str(classe)+\" precisão foi definida como zero.\", UndefinedMetricWarning)\n",
      "/home/negreiros/workdir/cefet/7periodo/machine-learning/avaliacao/resultado.py:73: UndefinedMetricWarning: Não há elementos previstos para a classe 1 precisão foi definida como zero.\n",
      "  warnings.warn(\"Não há elementos previstos para a classe \"+str(classe)+\" precisão foi definida como zero.\", UndefinedMetricWarning)\n",
      "/home/negreiros/workdir/cefet/7periodo/machine-learning/avaliacao/resultado.py:73: UndefinedMetricWarning: Não há elementos previstos para a classe 1 precisão foi definida como zero.\n",
      "  warnings.warn(\"Não há elementos previstos para a classe \"+str(classe)+\" precisão foi definida como zero.\", UndefinedMetricWarning)\n",
      "\u001b[32m[I 2021-03-02 06:41:10,475]\u001b[0m Trial 12 finished with value: 0.3277777777777778 and parameters: {'min_samples_split': 0.11291709172923867, 'max_features': 0.23681982158558643, 'num_arvores': 4}. Best is trial 2 with value: 0.48055555555555557.\u001b[0m\n",
      "/home/negreiros/workdir/cefet/7periodo/machine-learning/avaliacao/resultado.py:73: UndefinedMetricWarning: Não há elementos previstos para a classe 0 precisão foi definida como zero.\n",
      "  warnings.warn(\"Não há elementos previstos para a classe \"+str(classe)+\" precisão foi definida como zero.\", UndefinedMetricWarning)\n",
      "/home/negreiros/workdir/cefet/7periodo/machine-learning/avaliacao/resultado.py:73: UndefinedMetricWarning: Não há elementos previstos para a classe 1 precisão foi definida como zero.\n",
      "  warnings.warn(\"Não há elementos previstos para a classe \"+str(classe)+\" precisão foi definida como zero.\", UndefinedMetricWarning)\n",
      "\u001b[32m[I 2021-03-02 06:41:10,526]\u001b[0m Trial 13 finished with value: 0.30277777777777776 and parameters: {'min_samples_split': 0.2949968946035284, 'max_features': 0.17362826761019132, 'num_arvores': 4}. Best is trial 2 with value: 0.48055555555555557.\u001b[0m\n",
      "/home/negreiros/workdir/cefet/7periodo/machine-learning/avaliacao/resultado.py:73: UndefinedMetricWarning: Não há elementos previstos para a classe 0 precisão foi definida como zero.\n",
      "  warnings.warn(\"Não há elementos previstos para a classe \"+str(classe)+\" precisão foi definida como zero.\", UndefinedMetricWarning)\n",
      "\u001b[32m[I 2021-03-02 06:41:10,575]\u001b[0m Trial 14 finished with value: 0.48055555555555557 and parameters: {'min_samples_split': 0.12984798614906046, 'max_features': 0.3192174694621572, 'num_arvores': 3}. Best is trial 2 with value: 0.48055555555555557.\u001b[0m\n",
      "\u001b[32m[I 2021-03-02 06:41:10,633]\u001b[0m Trial 15 finished with value: 0.4777777777777778 and parameters: {'min_samples_split': 0.3543634479866557, 'max_features': 0.3970088596782199, 'num_arvores': 5}. Best is trial 2 with value: 0.48055555555555557.\u001b[0m\n",
      "/home/negreiros/workdir/cefet/7periodo/machine-learning/avaliacao/resultado.py:73: UndefinedMetricWarning: Não há elementos previstos para a classe 0 precisão foi definida como zero.\n",
      "  warnings.warn(\"Não há elementos previstos para a classe \"+str(classe)+\" precisão foi definida como zero.\", UndefinedMetricWarning)\n",
      "/home/negreiros/workdir/cefet/7periodo/machine-learning/avaliacao/resultado.py:73: UndefinedMetricWarning: Não há elementos previstos para a classe 1 precisão foi definida como zero.\n",
      "  warnings.warn(\"Não há elementos previstos para a classe \"+str(classe)+\" precisão foi definida como zero.\", UndefinedMetricWarning)\n",
      "/home/negreiros/workdir/cefet/7periodo/machine-learning/avaliacao/resultado.py:73: UndefinedMetricWarning: Não há elementos previstos para a classe 1 precisão foi definida como zero.\n",
      "  warnings.warn(\"Não há elementos previstos para a classe \"+str(classe)+\" precisão foi definida como zero.\", UndefinedMetricWarning)\n",
      "\u001b[32m[I 2021-03-02 06:41:10,685]\u001b[0m Trial 16 finished with value: 0.3277777777777778 and parameters: {'min_samples_split': 0.19461974313639613, 'max_features': 0.0022805757085812006, 'num_arvores': 4}. Best is trial 2 with value: 0.48055555555555557.\u001b[0m\n",
      "/home/negreiros/workdir/cefet/7periodo/machine-learning/avaliacao/resultado.py:73: UndefinedMetricWarning: Não há elementos previstos para a classe 0 precisão foi definida como zero.\n",
      "  warnings.warn(\"Não há elementos previstos para a classe \"+str(classe)+\" precisão foi definida como zero.\", UndefinedMetricWarning)\n",
      "\u001b[32m[I 2021-03-02 06:41:10,729]\u001b[0m Trial 17 finished with value: 0.48055555555555557 and parameters: {'min_samples_split': 0.08717060085348986, 'max_features': 0.3190196514660515, 'num_arvores': 3}. Best is trial 2 with value: 0.48055555555555557.\u001b[0m\n",
      "/home/negreiros/workdir/cefet/7periodo/machine-learning/avaliacao/resultado.py:73: UndefinedMetricWarning: Não há elementos previstos para a classe 0 precisão foi definida como zero.\n",
      "  warnings.warn(\"Não há elementos previstos para a classe \"+str(classe)+\" precisão foi definida como zero.\", UndefinedMetricWarning)\n",
      "\u001b[32m[I 2021-03-02 06:41:10,784]\u001b[0m Trial 18 finished with value: 0.48055555555555557 and parameters: {'min_samples_split': 0.0785251307879633, 'max_features': 0.1953111136836414, 'num_arvores': 5}. Best is trial 2 with value: 0.48055555555555557.\u001b[0m\n",
      "/home/negreiros/workdir/cefet/7periodo/machine-learning/avaliacao/resultado.py:73: UndefinedMetricWarning: Não há elementos previstos para a classe 0 precisão foi definida como zero.\n",
      "  warnings.warn(\"Não há elementos previstos para a classe \"+str(classe)+\" precisão foi definida como zero.\", UndefinedMetricWarning)\n"
     ]
    },
    {
     "name": "stdout",
     "output_type": "stream",
     "text": [
      "\u001b[32m[I 2021-03-02 06:41:10,840]\u001b[0m Trial 19 finished with value: 0.48055555555555557 and parameters: {'min_samples_split': 0.013867444781141186, 'max_features': 0.19216722474583217, 'num_arvores': 5}. Best is trial 2 with value: 0.48055555555555557.\u001b[0m\n",
      "/home/negreiros/workdir/cefet/7periodo/machine-learning/avaliacao/resultado.py:73: UndefinedMetricWarning: Não há elementos previstos para a classe 0 precisão foi definida como zero.\n",
      "  warnings.warn(\"Não há elementos previstos para a classe \"+str(classe)+\" precisão foi definida como zero.\", UndefinedMetricWarning)\n",
      "/home/negreiros/workdir/cefet/7periodo/machine-learning/avaliacao/resultado.py:73: UndefinedMetricWarning: Não há elementos previstos para a classe 1 precisão foi definida como zero.\n",
      "  warnings.warn(\"Não há elementos previstos para a classe \"+str(classe)+\" precisão foi definida como zero.\", UndefinedMetricWarning)\n",
      "/home/negreiros/workdir/cefet/7periodo/machine-learning/avaliacao/resultado.py:73: UndefinedMetricWarning: Não há elementos previstos para a classe 1 precisão foi definida como zero.\n",
      "  warnings.warn(\"Não há elementos previstos para a classe \"+str(classe)+\" precisão foi definida como zero.\", UndefinedMetricWarning)\n",
      "\u001b[32m[I 2021-03-02 06:41:10,893]\u001b[0m Trial 20 finished with value: 0.3277777777777778 and parameters: {'min_samples_split': 0.004381695158067245, 'max_features': 0.39426958790675004, 'num_arvores': 4}. Best is trial 2 with value: 0.48055555555555557.\u001b[0m\n",
      "/home/negreiros/workdir/cefet/7periodo/machine-learning/avaliacao/resultado.py:73: UndefinedMetricWarning: Não há elementos previstos para a classe 0 precisão foi definida como zero.\n",
      "  warnings.warn(\"Não há elementos previstos para a classe \"+str(classe)+\" precisão foi definida como zero.\", UndefinedMetricWarning)\n",
      "\u001b[32m[I 2021-03-02 06:41:10,948]\u001b[0m Trial 21 finished with value: 0.48055555555555557 and parameters: {'min_samples_split': 0.06427681076778821, 'max_features': 0.08409029416092632, 'num_arvores': 5}. Best is trial 2 with value: 0.48055555555555557.\u001b[0m\n",
      "/home/negreiros/workdir/cefet/7periodo/machine-learning/avaliacao/resultado.py:73: UndefinedMetricWarning: Não há elementos previstos para a classe 0 precisão foi definida como zero.\n",
      "  warnings.warn(\"Não há elementos previstos para a classe \"+str(classe)+\" precisão foi definida como zero.\", UndefinedMetricWarning)\n",
      "\u001b[32m[I 2021-03-02 06:41:11,005]\u001b[0m Trial 22 finished with value: 0.48055555555555557 and parameters: {'min_samples_split': 0.049690237279352255, 'max_features': 0.09040664628933481, 'num_arvores': 5}. Best is trial 2 with value: 0.48055555555555557.\u001b[0m\n",
      "/home/negreiros/workdir/cefet/7periodo/machine-learning/avaliacao/resultado.py:73: UndefinedMetricWarning: Não há elementos previstos para a classe 0 precisão foi definida como zero.\n",
      "  warnings.warn(\"Não há elementos previstos para a classe \"+str(classe)+\" precisão foi definida como zero.\", UndefinedMetricWarning)\n",
      "\u001b[32m[I 2021-03-02 06:41:11,062]\u001b[0m Trial 23 finished with value: 0.48055555555555557 and parameters: {'min_samples_split': 0.02637180360153152, 'max_features': 0.11414371449566318, 'num_arvores': 5}. Best is trial 2 with value: 0.48055555555555557.\u001b[0m\n",
      "/home/negreiros/workdir/cefet/7periodo/machine-learning/avaliacao/resultado.py:73: UndefinedMetricWarning: Não há elementos previstos para a classe 0 precisão foi definida como zero.\n",
      "  warnings.warn(\"Não há elementos previstos para a classe \"+str(classe)+\" precisão foi definida como zero.\", UndefinedMetricWarning)\n",
      "\u001b[32m[I 2021-03-02 06:41:11,117]\u001b[0m Trial 24 finished with value: 0.48055555555555557 and parameters: {'min_samples_split': 0.15367176587486014, 'max_features': 0.00867207739078063, 'num_arvores': 5}. Best is trial 2 with value: 0.48055555555555557.\u001b[0m\n",
      "/home/negreiros/workdir/cefet/7periodo/machine-learning/avaliacao/resultado.py:73: UndefinedMetricWarning: Não há elementos previstos para a classe 0 precisão foi definida como zero.\n",
      "  warnings.warn(\"Não há elementos previstos para a classe \"+str(classe)+\" precisão foi definida como zero.\", UndefinedMetricWarning)\n",
      "/home/negreiros/workdir/cefet/7periodo/machine-learning/avaliacao/resultado.py:73: UndefinedMetricWarning: Não há elementos previstos para a classe 1 precisão foi definida como zero.\n",
      "  warnings.warn(\"Não há elementos previstos para a classe \"+str(classe)+\" precisão foi definida como zero.\", UndefinedMetricWarning)\n",
      "/home/negreiros/workdir/cefet/7periodo/machine-learning/avaliacao/resultado.py:73: UndefinedMetricWarning: Não há elementos previstos para a classe 1 precisão foi definida como zero.\n",
      "  warnings.warn(\"Não há elementos previstos para a classe \"+str(classe)+\" precisão foi definida como zero.\", UndefinedMetricWarning)\n",
      "\u001b[32m[I 2021-03-02 06:41:11,168]\u001b[0m Trial 25 finished with value: 0.3277777777777778 and parameters: {'min_samples_split': 0.14173505973543682, 'max_features': 0.01639406957780191, 'num_arvores': 4}. Best is trial 2 with value: 0.48055555555555557.\u001b[0m\n",
      "/home/negreiros/workdir/cefet/7periodo/machine-learning/avaliacao/resultado.py:73: UndefinedMetricWarning: Não há elementos previstos para a classe 0 precisão foi definida como zero.\n",
      "  warnings.warn(\"Não há elementos previstos para a classe \"+str(classe)+\" precisão foi definida como zero.\", UndefinedMetricWarning)\n",
      "\u001b[32m[I 2021-03-02 06:41:11,224]\u001b[0m Trial 26 finished with value: 0.48055555555555557 and parameters: {'min_samples_split': 0.015605240386814103, 'max_features': 0.1238162096653556, 'num_arvores': 5}. Best is trial 2 with value: 0.48055555555555557.\u001b[0m\n",
      "/home/negreiros/workdir/cefet/7periodo/machine-learning/avaliacao/resultado.py:73: UndefinedMetricWarning: Não há elementos previstos para a classe 0 precisão foi definida como zero.\n",
      "  warnings.warn(\"Não há elementos previstos para a classe \"+str(classe)+\" precisão foi definida como zero.\", UndefinedMetricWarning)\n",
      "/home/negreiros/workdir/cefet/7periodo/machine-learning/avaliacao/resultado.py:73: UndefinedMetricWarning: Não há elementos previstos para a classe 1 precisão foi definida como zero.\n",
      "  warnings.warn(\"Não há elementos previstos para a classe \"+str(classe)+\" precisão foi definida como zero.\", UndefinedMetricWarning)\n",
      "/home/negreiros/workdir/cefet/7periodo/machine-learning/avaliacao/resultado.py:73: UndefinedMetricWarning: Não há elementos previstos para a classe 1 precisão foi definida como zero.\n",
      "  warnings.warn(\"Não há elementos previstos para a classe \"+str(classe)+\" precisão foi definida como zero.\", UndefinedMetricWarning)\n",
      "\u001b[32m[I 2021-03-02 06:41:11,275]\u001b[0m Trial 27 finished with value: 0.3277777777777778 and parameters: {'min_samples_split': 0.2500059503378486, 'max_features': 0.03747260219572916, 'num_arvores': 4}. Best is trial 2 with value: 0.48055555555555557.\u001b[0m\n",
      "/home/negreiros/workdir/cefet/7periodo/machine-learning/avaliacao/resultado.py:73: UndefinedMetricWarning: Não há elementos previstos para a classe 0 precisão foi definida como zero.\n",
      "  warnings.warn(\"Não há elementos previstos para a classe \"+str(classe)+\" precisão foi definida como zero.\", UndefinedMetricWarning)\n",
      "/home/negreiros/workdir/cefet/7periodo/machine-learning/avaliacao/resultado.py:73: UndefinedMetricWarning: Não há elementos previstos para a classe 0 precisão foi definida como zero.\n",
      "  warnings.warn(\"Não há elementos previstos para a classe \"+str(classe)+\" precisão foi definida como zero.\", UndefinedMetricWarning)\n",
      "\u001b[32m[I 2021-03-02 06:41:11,309]\u001b[0m Trial 28 finished with value: 0.3194444444444444 and parameters: {'min_samples_split': 0.0847677658189832, 'max_features': 0.2942955669831811, 'num_arvores': 1}. Best is trial 2 with value: 0.48055555555555557.\u001b[0m\n",
      "/home/negreiros/workdir/cefet/7periodo/machine-learning/avaliacao/resultado.py:73: UndefinedMetricWarning: Não há elementos previstos para a classe 1 precisão foi definida como zero.\n",
      "  warnings.warn(\"Não há elementos previstos para a classe \"+str(classe)+\" precisão foi definida como zero.\", UndefinedMetricWarning)\n",
      "/home/negreiros/workdir/cefet/7periodo/machine-learning/avaliacao/resultado.py:73: UndefinedMetricWarning: Não há elementos previstos para a classe 1 precisão foi definida como zero.\n",
      "  warnings.warn(\"Não há elementos previstos para a classe \"+str(classe)+\" precisão foi definida como zero.\", UndefinedMetricWarning)\n",
      "/home/negreiros/workdir/cefet/7periodo/machine-learning/avaliacao/resultado.py:73: UndefinedMetricWarning: Não há elementos previstos para a classe 1 precisão foi definida como zero.\n",
      "  warnings.warn(\"Não há elementos previstos para a classe \"+str(classe)+\" precisão foi definida como zero.\", UndefinedMetricWarning)\n"
     ]
    },
    {
     "name": "stdout",
     "output_type": "stream",
     "text": [
      "/home/negreiros/workdir/cefet/7periodo/machine-learning/avaliacao/resultado.py:73: UndefinedMetricWarning: Não há elementos previstos para a classe 1 precisão foi definida como zero.\r\n",
      "  warnings.warn(\"Não há elementos previstos para a classe \"+str(classe)+\" precisão foi definida como zero.\", UndefinedMetricWarning)\r\n",
      "\u001b[32m[I 2021-03-02 06:41:11,348]\u001b[0m Trial 29 finished with value: 0.4055555555555556 and parameters: {'min_samples_split': 0.12914476031408328, 'max_features': 0.2155279947994088, 'num_arvores': 2}. Best is trial 2 with value: 0.48055555555555557.\u001b[0m\r\n",
      "{'min_samples_split': 0.208511002351287, 'max_features': 0.36016224672107905, 'num_arvores': 2}\r\n",
      "{'min_samples_split': 0.15116628631591988, 'max_features': 0.07337794540855652, 'num_arvores': 1}\r\n",
      "{'min_samples_split': 0.19829036364801306, 'max_features': 0.1939553705810037, 'num_arvores': 5}\r\n",
      "{'min_samples_split': 0.19838373711533497, 'max_features': 0.2694083670016785, 'num_arvores': 3}\r\n",
      "{'min_samples_split': 0.2622740797864357, 'max_features': 0.22172644688977833, 'num_arvores': 5}\r\n",
      "{'min_samples_split': 0.013693796598963082, 'max_features': 0.3352337550892011, 'num_arvores': 2}\r\n",
      "{'min_samples_split': 0.21534928359235422, 'max_features': 0.46956389471181287, 'num_arvores': 2}\r\n",
      "{'min_samples_split': 0.48413078785969876, 'max_features': 0.15671208907962142, 'num_arvores': 2}\r\n",
      "{'min_samples_split': 0.43819457614801915, 'max_features': 0.44730333175192366, 'num_arvores': 1}\r\n",
      "{'min_samples_split': 0.4148016796970918, 'max_features': 0.13652498710837369, 'num_arvores': 3}\r\n",
      "{'min_samples_split': 0.05219583088403967, 'max_features': 0.06479321027429591, 'num_arvores': 5}\r\n",
      "{'min_samples_split': 0.31815163380970113, 'max_features': 0.284041978716814, 'num_arvores': 4}\r\n",
      "{'min_samples_split': 0.11291709172923867, 'max_features': 0.23681982158558643, 'num_arvores': 4}\r\n",
      "{'min_samples_split': 0.2949968946035284, 'max_features': 0.17362826761019132, 'num_arvores': 4}\r\n",
      "{'min_samples_split': 0.12984798614906046, 'max_features': 0.3192174694621572, 'num_arvores': 3}\r\n",
      "{'min_samples_split': 0.3543634479866557, 'max_features': 0.3970088596782199, 'num_arvores': 5}\r\n",
      "{'min_samples_split': 0.19461974313639613, 'max_features': 0.0022805757085812006, 'num_arvores': 4}\r\n",
      "{'min_samples_split': 0.08717060085348986, 'max_features': 0.3190196514660515, 'num_arvores': 3}\r\n",
      "{'min_samples_split': 0.0785251307879633, 'max_features': 0.1953111136836414, 'num_arvores': 5}\r\n",
      "{'min_samples_split': 0.013867444781141186, 'max_features': 0.19216722474583217, 'num_arvores': 5}\r\n",
      "{'min_samples_split': 0.004381695158067245, 'max_features': 0.39426958790675004, 'num_arvores': 4}\r\n",
      "{'min_samples_split': 0.06427681076778821, 'max_features': 0.08409029416092632, 'num_arvores': 5}\r\n",
      "{'min_samples_split': 0.049690237279352255, 'max_features': 0.09040664628933481, 'num_arvores': 5}\r\n",
      "{'min_samples_split': 0.02637180360153152, 'max_features': 0.11414371449566318, 'num_arvores': 5}\r\n",
      "{'min_samples_split': 0.15367176587486014, 'max_features': 0.00867207739078063, 'num_arvores': 5}\r\n",
      "{'min_samples_split': 0.14173505973543682, 'max_features': 0.01639406957780191, 'num_arvores': 4}\r\n",
      "{'min_samples_split': 0.015605240386814103, 'max_features': 0.1238162096653556, 'num_arvores': 5}\r\n",
      "{'min_samples_split': 0.2500059503378486, 'max_features': 0.03747260219572916, 'num_arvores': 4}\r\n",
      "{'min_samples_split': 0.0847677658189832, 'max_features': 0.2942955669831811, 'num_arvores': 1}\r\n",
      "{'min_samples_split': 0.12914476031408328, 'max_features': 0.2155279947994088, 'num_arvores': 2}\r\n",
      "Melhor execução: {'min_samples_split': 0.19829036364801306, 'max_features': 0.1939553705810037, 'num_arvores': 5}\r\n",
      "Resultado: 0.3650793650793651\r\n",
      ".\r\n",
      "----------------------------------------------------------------------\r\n",
      "Ran 1 test in 1.413s\r\n",
      "\r\n",
      "OK\r\n"
     ]
    }
   ],
   "source": [
    "!python3 -m tests TestObjetivoOtimizacaoRF.test_otimizacao"
   ]
  },
  {
   "cell_type": "markdown",
   "metadata": {},
   "source": [
    "- O warning é que, em alguns casos, em alguma classe, não há previsão para a mesma e, assim, daria divisão por zero. Como é um exemplo pequeno, isso é natural ocorrer. Se fosse um exemplo real, seria interessante investigar para evitar que uma classe não tenha previsão. Por exemplo: será que existe exemplos o suficiente para esta classe? "
   ]
  },
  {
   "cell_type": "markdown",
   "metadata": {},
   "source": [
    "**Atividade 5 - método `calcula_resultados` da classe Experimento**: Esse método deve calcular os resultados para cada fold (navegando no atributo `folds`) e, para isso, se houver fold de validação e tiver uma classe de otimização definida, deve obter o melhor método nos folds de validação e aplicá-lo no teste para obter o resultado. \n",
    "\n"
   ]
  },
  {
   "cell_type": "code",
   "execution_count": 14,
   "metadata": {},
   "outputs": [
    {
     "name": "stdout",
     "output_type": "stream",
     "text": [
      "\u001b[32m[I 2021-03-02 06:41:17,951]\u001b[0m A new study created in memory with name: no-name-25f60213-848d-4430-833d-147fe0adacee\u001b[0m\n",
      "\u001b[32m[I 2021-03-02 06:41:17,974]\u001b[0m Trial 0 finished with value: 0.5366402116402116 and parameters: {'min_samples_split': 0.208511002351287}. Best is trial 0 with value: 0.5366402116402116.\u001b[0m\n",
      "\u001b[32m[I 2021-03-02 06:41:17,994]\u001b[0m Trial 1 finished with value: 0.5186507936507936 and parameters: {'min_samples_split': 0.36016224672107905}. Best is trial 0 with value: 0.5366402116402116.\u001b[0m\n",
      "\u001b[32m[I 2021-03-02 06:41:18,013]\u001b[0m Trial 2 finished with value: 0.5564814814814815 and parameters: {'min_samples_split': 5.718740867244332e-05}. Best is trial 2 with value: 0.5564814814814815.\u001b[0m\n",
      "\u001b[32m[I 2021-03-02 06:41:18,036]\u001b[0m Trial 3 finished with value: 0.5564814814814815 and parameters: {'min_samples_split': 0.009897162413044502}. Best is trial 2 with value: 0.5564814814814815.\u001b[0m\n",
      "\u001b[32m[I 2021-03-02 06:41:18,057]\u001b[0m Trial 4 finished with value: 0.5564814814814815 and parameters: {'min_samples_split': 0.034424899098494076}. Best is trial 2 with value: 0.5564814814814815.\u001b[0m\n",
      "\u001b[32m[I 2021-03-02 06:41:18,078]\u001b[0m Trial 5 finished with value: 0.5366402116402116 and parameters: {'min_samples_split': 0.17428570888140377}. Best is trial 2 with value: 0.5564814814814815.\u001b[0m\n",
      "\u001b[32m[I 2021-03-02 06:41:18,100]\u001b[0m Trial 6 finished with value: 0.40105820105820106 and parameters: {'min_samples_split': 0.4770398006051615}. Best is trial 2 with value: 0.5564814814814815.\u001b[0m\n",
      "\u001b[32m[I 2021-03-02 06:41:18,121]\u001b[0m Trial 7 finished with value: 0.5564814814814815 and parameters: {'min_samples_split': 0.09200819756260323}. Best is trial 2 with value: 0.5564814814814815.\u001b[0m\n",
      "\u001b[32m[I 2021-03-02 06:41:18,142]\u001b[0m Trial 8 finished with value: 0.5186507936507936 and parameters: {'min_samples_split': 0.3321118705910422}. Best is trial 2 with value: 0.5564814814814815.\u001b[0m\n",
      "\u001b[32m[I 2021-03-02 06:41:18,163]\u001b[0m Trial 9 finished with value: 0.5564814814814815 and parameters: {'min_samples_split': 0.10807201232800637}. Best is trial 2 with value: 0.5564814814814815.\u001b[0m\n",
      "\u001b[32m[I 2021-03-02 06:41:18,166]\u001b[0m A new study created in memory with name: no-name-46d75c3c-aea2-4560-8905-784ca0e038f5\u001b[0m\n",
      "\u001b[32m[I 2021-03-02 06:41:18,186]\u001b[0m Trial 0 finished with value: 0.34378306878306875 and parameters: {'min_samples_split': 0.15116628631591988}. Best is trial 0 with value: 0.34378306878306875.\u001b[0m\n",
      "\u001b[32m[I 2021-03-02 06:41:18,206]\u001b[0m Trial 1 finished with value: 0.30674603174603177 and parameters: {'min_samples_split': 0.07337794540855652}. Best is trial 0 with value: 0.34378306878306875.\u001b[0m\n",
      "\u001b[32m[I 2021-03-02 06:41:18,226]\u001b[0m Trial 2 finished with value: 0.30674603174603177 and parameters: {'min_samples_split': 0.0461692973843989}. Best is trial 0 with value: 0.34378306878306875.\u001b[0m\n",
      "\u001b[32m[I 2021-03-02 06:41:18,246]\u001b[0m Trial 3 finished with value: 0.3255291005291005 and parameters: {'min_samples_split': 0.4275616790605572}. Best is trial 0 with value: 0.34378306878306875.\u001b[0m\n",
      "\u001b[32m[I 2021-03-02 06:41:18,268]\u001b[0m Trial 4 finished with value: 0.3310846560846561 and parameters: {'min_samples_split': 0.258072491862979}. Best is trial 0 with value: 0.34378306878306875.\u001b[0m\n",
      "\u001b[32m[I 2021-03-02 06:41:18,289]\u001b[0m Trial 5 finished with value: 0.3310846560846561 and parameters: {'min_samples_split': 0.21810767075230092}. Best is trial 0 with value: 0.34378306878306875.\u001b[0m\n",
      "\u001b[32m[I 2021-03-02 06:41:18,310]\u001b[0m Trial 6 finished with value: 0.3310846560846561 and parameters: {'min_samples_split': 0.21876420384658635}. Best is trial 0 with value: 0.34378306878306875.\u001b[0m\n",
      "\u001b[32m[I 2021-03-02 06:41:18,334]\u001b[0m Trial 7 finished with value: 0.29404761904761906 and parameters: {'min_samples_split': 0.3735754665977386}. Best is trial 0 with value: 0.34378306878306875.\u001b[0m\n",
      "\u001b[32m[I 2021-03-02 06:41:18,356]\u001b[0m Trial 8 finished with value: 0.30674603174603177 and parameters: {'min_samples_split': 0.11994554983241956}. Best is trial 0 with value: 0.34378306878306875.\u001b[0m\n",
      "\u001b[32m[I 2021-03-02 06:41:18,380]\u001b[0m Trial 9 finished with value: 0.30674603174603177 and parameters: {'min_samples_split': 0.13766510144161226}. Best is trial 0 with value: 0.34378306878306875.\u001b[0m\n",
      "\u001b[32m[I 2021-03-02 06:41:18,384]\u001b[0m A new study created in memory with name: no-name-743d57ac-028c-4b9b-a243-d40841774174\u001b[0m\n",
      "\u001b[32m[I 2021-03-02 06:41:18,405]\u001b[0m Trial 0 finished with value: 0.34391534391534395 and parameters: {'min_samples_split': 0.09313010568883545}. Best is trial 0 with value: 0.34391534391534395.\u001b[0m\n",
      "\u001b[32m[I 2021-03-02 06:41:18,438]\u001b[0m Trial 1 finished with value: 0.3558201058201058 and parameters: {'min_samples_split': 0.17278036352152387}. Best is trial 1 with value: 0.3558201058201058.\u001b[0m\n",
      "\u001b[32m[I 2021-03-02 06:41:18,459]\u001b[0m Trial 2 finished with value: 0.3558201058201058 and parameters: {'min_samples_split': 0.19838373711533497}. Best is trial 1 with value: 0.3558201058201058.\u001b[0m\n",
      "\u001b[32m[I 2021-03-02 06:41:18,481]\u001b[0m Trial 3 finished with value: 0.2828042328042328 and parameters: {'min_samples_split': 0.43525767671842974}. Best is trial 1 with value: 0.3558201058201058.\u001b[0m\n",
      "\u001b[32m[I 2021-03-02 06:41:18,507]\u001b[0m Trial 4 finished with value: 0.34391534391534395 and parameters: {'min_samples_split': 0.004849618809851186}. Best is trial 1 with value: 0.3558201058201058.\u001b[0m\n",
      "\u001b[32m[I 2021-03-02 06:41:18,528]\u001b[0m Trial 5 finished with value: 0.34761904761904755 and parameters: {'min_samples_split': 0.32343059654981965}. Best is trial 1 with value: 0.3558201058201058.\u001b[0m\n",
      "\u001b[32m[I 2021-03-02 06:41:18,552]\u001b[0m Trial 6 finished with value: 0.3558201058201058 and parameters: {'min_samples_split': 0.18880408532799875}. Best is trial 1 with value: 0.3558201058201058.\u001b[0m\n",
      "\u001b[32m[I 2021-03-02 06:41:18,574]\u001b[0m Trial 7 finished with value: 0.2828042328042328 and parameters: {'min_samples_split': 0.3717287446427411}. Best is trial 1 with value: 0.3558201058201058.\u001b[0m\n",
      "\u001b[32m[I 2021-03-02 06:41:18,599]\u001b[0m Trial 8 finished with value: 0.34391534391534395 and parameters: {'min_samples_split': 0.08005994595655519}. Best is trial 1 with value: 0.3558201058201058.\u001b[0m\n",
      "\u001b[32m[I 2021-03-02 06:41:18,621]\u001b[0m Trial 9 finished with value: 0.32724867724867723 and parameters: {'min_samples_split': 0.26107745837004054}. Best is trial 1 with value: 0.3558201058201058.\u001b[0m\n",
      "\u001b[32m[I 2021-03-02 06:41:18,624]\u001b[0m A new study created in memory with name: no-name-f24a0b88-c9aa-476b-abb2-d8bb4241239e\u001b[0m\n",
      "\u001b[32m[I 2021-03-02 06:41:18,647]\u001b[0m Trial 0 finished with value: 0.2334215167548501 and parameters: {'min_samples_split': 0.2694083670016785}. Best is trial 0 with value: 0.2334215167548501.\u001b[0m\n",
      "\u001b[32m[I 2021-03-02 06:41:18,666]\u001b[0m Trial 1 finished with value: 0.26119929453262786 and parameters: {'min_samples_split': 0.2095972572016474}. Best is trial 1 with value: 0.26119929453262786.\u001b[0m\n",
      "\u001b[32m[I 2021-03-02 06:41:18,688]\u001b[0m Trial 2 finished with value: 0.2019400352733686 and parameters: {'min_samples_split': 0.34260975019837975}. Best is trial 1 with value: 0.26119929453262786.\u001b[0m\n",
      "\u001b[32m[I 2021-03-02 06:41:18,709]\u001b[0m Trial 3 finished with value: 0.3011463844797178 and parameters: {'min_samples_split': 0.023278261601443057}. Best is trial 3 with value: 0.3011463844797178.\u001b[0m\n",
      "\u001b[32m[I 2021-03-02 06:41:18,731]\u001b[0m Trial 4 finished with value: 0.3011463844797178 and parameters: {'min_samples_split': 0.0021864179388490293}. Best is trial 3 with value: 0.3011463844797178.\u001b[0m\n",
      "\u001b[32m[I 2021-03-02 06:41:18,754]\u001b[0m Trial 5 finished with value: 0.3011463844797178 and parameters: {'min_samples_split': 0.03841816065905437}. Best is trial 3 with value: 0.3011463844797178.\u001b[0m\n",
      "\u001b[32m[I 2021-03-02 06:41:18,776]\u001b[0m Trial 6 finished with value: 0.3011463844797178 and parameters: {'min_samples_split': 0.09969027872797248}. Best is trial 3 with value: 0.3011463844797178.\u001b[0m\n",
      "\u001b[32m[I 2021-03-02 06:41:18,803]\u001b[0m Trial 7 finished with value: 0.21472663139329806 and parameters: {'min_samples_split': 0.44563995687007163}. Best is trial 3 with value: 0.3011463844797178.\u001b[0m\n",
      "\u001b[32m[I 2021-03-02 06:41:18,829]\u001b[0m Trial 8 finished with value: 0.3011463844797178 and parameters: {'min_samples_split': 0.13076439246519184}. Best is trial 3 with value: 0.3011463844797178.\u001b[0m\n",
      "\u001b[32m[I 2021-03-02 06:41:18,855]\u001b[0m Trial 9 finished with value: 0.21472663139329806 and parameters: {'min_samples_split': 0.45340257254777083}. Best is trial 3 with value: 0.3011463844797178.\u001b[0m\n",
      "\u001b[32m[I 2021-03-02 06:41:18,859]\u001b[0m A new study created in memory with name: no-name-d45adb09-e01b-4137-8e8d-9dde7187681a\u001b[0m\n"
     ]
    },
    {
     "name": "stdout",
     "output_type": "stream",
     "text": [
      "\u001b[32m[I 2021-03-02 06:41:18,883]\u001b[0m Trial 0 finished with value: 0.4437830687830688 and parameters: {'min_samples_split': 0.10222612486575872}. Best is trial 0 with value: 0.4437830687830688.\u001b[0m\n",
      "\u001b[32m[I 2021-03-02 06:41:18,907]\u001b[0m Trial 1 finished with value: 0.3133597883597884 and parameters: {'min_samples_split': 0.4390587181954727}. Best is trial 0 with value: 0.4437830687830688.\u001b[0m\n",
      "\u001b[32m[I 2021-03-02 06:41:18,926]\u001b[0m Trial 2 finished with value: 0.4437830687830688 and parameters: {'min_samples_split': 0.013693796598963082}. Best is trial 0 with value: 0.4437830687830688.\u001b[0m\n",
      "\u001b[32m[I 2021-03-02 06:41:18,949]\u001b[0m Trial 3 finished with value: 0.4437830687830688 and parameters: {'min_samples_split': 0.08254953634851328}. Best is trial 0 with value: 0.4437830687830688.\u001b[0m\n",
      "\u001b[32m[I 2021-03-02 06:41:18,971]\u001b[0m Trial 4 finished with value: 0.40119047619047615 and parameters: {'min_samples_split': 0.2064452110501599}. Best is trial 0 with value: 0.4437830687830688.\u001b[0m\n",
      "\u001b[32m[I 2021-03-02 06:41:18,993]\u001b[0m Trial 5 finished with value: 0.40119047619047615 and parameters: {'min_samples_split': 0.2027501525953027}. Best is trial 0 with value: 0.4437830687830688.\u001b[0m\n",
      "\u001b[32m[I 2021-03-02 06:41:19,016]\u001b[0m Trial 6 finished with value: 0.3641534391534391 and parameters: {'min_samples_split': 0.38613977216331524}. Best is trial 0 with value: 0.4437830687830688.\u001b[0m\n",
      "\u001b[32m[I 2021-03-02 06:41:19,038]\u001b[0m Trial 7 finished with value: 0.4437830687830688 and parameters: {'min_samples_split': 0.08435571899012612}. Best is trial 0 with value: 0.4437830687830688.\u001b[0m\n",
      "\u001b[32m[I 2021-03-02 06:41:19,060]\u001b[0m Trial 8 finished with value: 0.3641534391534391 and parameters: {'min_samples_split': 0.322191382889946}. Best is trial 0 with value: 0.4437830687830688.\u001b[0m\n",
      "\u001b[32m[I 2021-03-02 06:41:19,081]\u001b[0m Trial 9 finished with value: 0.4437830687830688 and parameters: {'min_samples_split': 0.1179866528971532}. Best is trial 0 with value: 0.4437830687830688.\u001b[0m\n",
      "Fold: 0 Macro F1: 0.16666666666666666\n",
      "Fold: 1 Macro F1: 0.4444444444444444\n",
      "Fold: 2 Macro F1: 0.48888888888888893\n",
      "Fold: 3 Macro F1: 0.6190476190476191\n",
      "Fold: 4 Macro F1: 0.24999999999999997\n",
      ".\n",
      "----------------------------------------------------------------------\n",
      "Ran 1 test in 1.199s\n",
      "\n",
      "OK\n"
     ]
    }
   ],
   "source": [
    "!python3 -m tests ExperimentoTest.test_resultados"
   ]
  },
  {
   "cell_type": "markdown",
   "metadata": {},
   "source": [
    "**Atividade 6 - propriedade (atributo calculado) macro_f1_avg:** Usando os resultados no teste (atributo resultados) calcule o macro f1 médio."
   ]
  },
  {
   "cell_type": "code",
   "execution_count": 15,
   "metadata": {
    "scrolled": false
   },
   "outputs": [
    {
     "name": "stdout",
     "output_type": "stream",
     "text": [
      "\u001b[32m[I 2021-03-02 06:41:25,463]\u001b[0m A new study created in memory with name: no-name-e87f729f-64b7-4f2d-a2a4-70c5f85b5773\u001b[0m\n",
      "\u001b[32m[I 2021-03-02 06:41:25,488]\u001b[0m Trial 0 finished with value: 0.5366402116402116 and parameters: {'min_samples_split': 0.208511002351287}. Best is trial 0 with value: 0.5366402116402116.\u001b[0m\n",
      "\u001b[32m[I 2021-03-02 06:41:25,510]\u001b[0m Trial 1 finished with value: 0.5186507936507936 and parameters: {'min_samples_split': 0.36016224672107905}. Best is trial 0 with value: 0.5366402116402116.\u001b[0m\n",
      "\u001b[32m[I 2021-03-02 06:41:25,531]\u001b[0m Trial 2 finished with value: 0.5564814814814815 and parameters: {'min_samples_split': 5.718740867244332e-05}. Best is trial 2 with value: 0.5564814814814815.\u001b[0m\n",
      "\u001b[32m[I 2021-03-02 06:41:25,554]\u001b[0m Trial 3 finished with value: 0.5564814814814815 and parameters: {'min_samples_split': 0.009897162413044502}. Best is trial 2 with value: 0.5564814814814815.\u001b[0m\n",
      "\u001b[32m[I 2021-03-02 06:41:25,578]\u001b[0m Trial 4 finished with value: 0.5564814814814815 and parameters: {'min_samples_split': 0.034424899098494076}. Best is trial 2 with value: 0.5564814814814815.\u001b[0m\n",
      "\u001b[32m[I 2021-03-02 06:41:25,601]\u001b[0m Trial 5 finished with value: 0.5366402116402116 and parameters: {'min_samples_split': 0.17428570888140377}. Best is trial 2 with value: 0.5564814814814815.\u001b[0m\n",
      "\u001b[32m[I 2021-03-02 06:41:25,625]\u001b[0m Trial 6 finished with value: 0.40105820105820106 and parameters: {'min_samples_split': 0.4770398006051615}. Best is trial 2 with value: 0.5564814814814815.\u001b[0m\n",
      "\u001b[32m[I 2021-03-02 06:41:25,647]\u001b[0m Trial 7 finished with value: 0.5564814814814815 and parameters: {'min_samples_split': 0.09200819756260323}. Best is trial 2 with value: 0.5564814814814815.\u001b[0m\n",
      "\u001b[32m[I 2021-03-02 06:41:25,669]\u001b[0m Trial 8 finished with value: 0.5186507936507936 and parameters: {'min_samples_split': 0.3321118705910422}. Best is trial 2 with value: 0.5564814814814815.\u001b[0m\n",
      "\u001b[32m[I 2021-03-02 06:41:25,692]\u001b[0m Trial 9 finished with value: 0.5564814814814815 and parameters: {'min_samples_split': 0.10807201232800637}. Best is trial 2 with value: 0.5564814814814815.\u001b[0m\n",
      "\u001b[32m[I 2021-03-02 06:41:25,695]\u001b[0m A new study created in memory with name: no-name-decd9adf-2838-4e63-84e9-6ee4398b20d1\u001b[0m\n",
      "\u001b[32m[I 2021-03-02 06:41:25,716]\u001b[0m Trial 0 finished with value: 0.34378306878306875 and parameters: {'min_samples_split': 0.15116628631591988}. Best is trial 0 with value: 0.34378306878306875.\u001b[0m\n",
      "\u001b[32m[I 2021-03-02 06:41:25,736]\u001b[0m Trial 1 finished with value: 0.30674603174603177 and parameters: {'min_samples_split': 0.07337794540855652}. Best is trial 0 with value: 0.34378306878306875.\u001b[0m\n",
      "\u001b[32m[I 2021-03-02 06:41:25,756]\u001b[0m Trial 2 finished with value: 0.30674603174603177 and parameters: {'min_samples_split': 0.0461692973843989}. Best is trial 0 with value: 0.34378306878306875.\u001b[0m\n",
      "\u001b[32m[I 2021-03-02 06:41:25,779]\u001b[0m Trial 3 finished with value: 0.3255291005291005 and parameters: {'min_samples_split': 0.4275616790605572}. Best is trial 0 with value: 0.34378306878306875.\u001b[0m\n",
      "\u001b[32m[I 2021-03-02 06:41:25,800]\u001b[0m Trial 4 finished with value: 0.3310846560846561 and parameters: {'min_samples_split': 0.258072491862979}. Best is trial 0 with value: 0.34378306878306875.\u001b[0m\n",
      "\u001b[32m[I 2021-03-02 06:41:25,823]\u001b[0m Trial 5 finished with value: 0.3310846560846561 and parameters: {'min_samples_split': 0.21810767075230092}. Best is trial 0 with value: 0.34378306878306875.\u001b[0m\n",
      "\u001b[32m[I 2021-03-02 06:41:25,844]\u001b[0m Trial 6 finished with value: 0.3310846560846561 and parameters: {'min_samples_split': 0.21876420384658635}. Best is trial 0 with value: 0.34378306878306875.\u001b[0m\n",
      "\u001b[32m[I 2021-03-02 06:41:25,865]\u001b[0m Trial 7 finished with value: 0.29404761904761906 and parameters: {'min_samples_split': 0.3735754665977386}. Best is trial 0 with value: 0.34378306878306875.\u001b[0m\n",
      "\u001b[32m[I 2021-03-02 06:41:25,887]\u001b[0m Trial 8 finished with value: 0.30674603174603177 and parameters: {'min_samples_split': 0.11994554983241956}. Best is trial 0 with value: 0.34378306878306875.\u001b[0m\n",
      "\u001b[32m[I 2021-03-02 06:41:25,909]\u001b[0m Trial 9 finished with value: 0.30674603174603177 and parameters: {'min_samples_split': 0.13766510144161226}. Best is trial 0 with value: 0.34378306878306875.\u001b[0m\n",
      "\u001b[32m[I 2021-03-02 06:41:25,913]\u001b[0m A new study created in memory with name: no-name-4cca9800-d747-4c66-8a3d-fc839c410334\u001b[0m\n",
      "\u001b[32m[I 2021-03-02 06:41:25,934]\u001b[0m Trial 0 finished with value: 0.34391534391534395 and parameters: {'min_samples_split': 0.09313010568883545}. Best is trial 0 with value: 0.34391534391534395.\u001b[0m\n",
      "\u001b[32m[I 2021-03-02 06:41:25,954]\u001b[0m Trial 1 finished with value: 0.3558201058201058 and parameters: {'min_samples_split': 0.17278036352152387}. Best is trial 1 with value: 0.3558201058201058.\u001b[0m\n",
      "\u001b[32m[I 2021-03-02 06:41:25,975]\u001b[0m Trial 2 finished with value: 0.3558201058201058 and parameters: {'min_samples_split': 0.19838373711533497}. Best is trial 1 with value: 0.3558201058201058.\u001b[0m\n",
      "\u001b[32m[I 2021-03-02 06:41:25,997]\u001b[0m Trial 3 finished with value: 0.2828042328042328 and parameters: {'min_samples_split': 0.43525767671842974}. Best is trial 1 with value: 0.3558201058201058.\u001b[0m\n",
      "\u001b[32m[I 2021-03-02 06:41:26,020]\u001b[0m Trial 4 finished with value: 0.34391534391534395 and parameters: {'min_samples_split': 0.004849618809851186}. Best is trial 1 with value: 0.3558201058201058.\u001b[0m\n",
      "\u001b[32m[I 2021-03-02 06:41:26,042]\u001b[0m Trial 5 finished with value: 0.34761904761904755 and parameters: {'min_samples_split': 0.32343059654981965}. Best is trial 1 with value: 0.3558201058201058.\u001b[0m\n",
      "\u001b[32m[I 2021-03-02 06:41:26,064]\u001b[0m Trial 6 finished with value: 0.3558201058201058 and parameters: {'min_samples_split': 0.18880408532799875}. Best is trial 1 with value: 0.3558201058201058.\u001b[0m\n",
      "\u001b[32m[I 2021-03-02 06:41:26,087]\u001b[0m Trial 7 finished with value: 0.2828042328042328 and parameters: {'min_samples_split': 0.3717287446427411}. Best is trial 1 with value: 0.3558201058201058.\u001b[0m\n",
      "\u001b[32m[I 2021-03-02 06:41:26,108]\u001b[0m Trial 8 finished with value: 0.34391534391534395 and parameters: {'min_samples_split': 0.08005994595655519}. Best is trial 1 with value: 0.3558201058201058.\u001b[0m\n",
      "\u001b[32m[I 2021-03-02 06:41:26,129]\u001b[0m Trial 9 finished with value: 0.32724867724867723 and parameters: {'min_samples_split': 0.26107745837004054}. Best is trial 1 with value: 0.3558201058201058.\u001b[0m\n",
      "\u001b[32m[I 2021-03-02 06:41:26,133]\u001b[0m A new study created in memory with name: no-name-cc23044e-3a42-4b05-a081-d0b5fe2aca83\u001b[0m\n",
      "\u001b[32m[I 2021-03-02 06:41:26,153]\u001b[0m Trial 0 finished with value: 0.2334215167548501 and parameters: {'min_samples_split': 0.2694083670016785}. Best is trial 0 with value: 0.2334215167548501.\u001b[0m\n",
      "\u001b[32m[I 2021-03-02 06:41:26,173]\u001b[0m Trial 1 finished with value: 0.26119929453262786 and parameters: {'min_samples_split': 0.2095972572016474}. Best is trial 1 with value: 0.26119929453262786.\u001b[0m\n",
      "\u001b[32m[I 2021-03-02 06:41:26,193]\u001b[0m Trial 2 finished with value: 0.2019400352733686 and parameters: {'min_samples_split': 0.34260975019837975}. Best is trial 1 with value: 0.26119929453262786.\u001b[0m\n",
      "\u001b[32m[I 2021-03-02 06:41:26,219]\u001b[0m Trial 3 finished with value: 0.3011463844797178 and parameters: {'min_samples_split': 0.023278261601443057}. Best is trial 3 with value: 0.3011463844797178.\u001b[0m\n",
      "\u001b[32m[I 2021-03-02 06:41:26,245]\u001b[0m Trial 4 finished with value: 0.3011463844797178 and parameters: {'min_samples_split': 0.0021864179388490293}. Best is trial 3 with value: 0.3011463844797178.\u001b[0m\n",
      "\u001b[32m[I 2021-03-02 06:41:26,274]\u001b[0m Trial 5 finished with value: 0.3011463844797178 and parameters: {'min_samples_split': 0.03841816065905437}. Best is trial 3 with value: 0.3011463844797178.\u001b[0m\n",
      "\u001b[32m[I 2021-03-02 06:41:26,301]\u001b[0m Trial 6 finished with value: 0.3011463844797178 and parameters: {'min_samples_split': 0.09969027872797248}. Best is trial 3 with value: 0.3011463844797178.\u001b[0m\n",
      "\u001b[32m[I 2021-03-02 06:41:26,326]\u001b[0m Trial 7 finished with value: 0.21472663139329806 and parameters: {'min_samples_split': 0.44563995687007163}. Best is trial 3 with value: 0.3011463844797178.\u001b[0m\n",
      "\u001b[32m[I 2021-03-02 06:41:26,355]\u001b[0m Trial 8 finished with value: 0.3011463844797178 and parameters: {'min_samples_split': 0.13076439246519184}. Best is trial 3 with value: 0.3011463844797178.\u001b[0m\n"
     ]
    },
    {
     "name": "stdout",
     "output_type": "stream",
     "text": [
      "\u001b[32m[I 2021-03-02 06:41:26,376]\u001b[0m Trial 9 finished with value: 0.21472663139329806 and parameters: {'min_samples_split': 0.45340257254777083}. Best is trial 3 with value: 0.3011463844797178.\u001b[0m\n",
      "\u001b[32m[I 2021-03-02 06:41:26,380]\u001b[0m A new study created in memory with name: no-name-f87d89b4-685f-4b3f-b6de-77aef95ff2f3\u001b[0m\n",
      "\u001b[32m[I 2021-03-02 06:41:26,400]\u001b[0m Trial 0 finished with value: 0.4437830687830688 and parameters: {'min_samples_split': 0.10222612486575872}. Best is trial 0 with value: 0.4437830687830688.\u001b[0m\n",
      "\u001b[32m[I 2021-03-02 06:41:26,420]\u001b[0m Trial 1 finished with value: 0.3133597883597884 and parameters: {'min_samples_split': 0.4390587181954727}. Best is trial 0 with value: 0.4437830687830688.\u001b[0m\n",
      "\u001b[32m[I 2021-03-02 06:41:26,439]\u001b[0m Trial 2 finished with value: 0.4437830687830688 and parameters: {'min_samples_split': 0.013693796598963082}. Best is trial 0 with value: 0.4437830687830688.\u001b[0m\n",
      "\u001b[32m[I 2021-03-02 06:41:26,460]\u001b[0m Trial 3 finished with value: 0.4437830687830688 and parameters: {'min_samples_split': 0.08254953634851328}. Best is trial 0 with value: 0.4437830687830688.\u001b[0m\n",
      "\u001b[32m[I 2021-03-02 06:41:26,481]\u001b[0m Trial 4 finished with value: 0.40119047619047615 and parameters: {'min_samples_split': 0.2064452110501599}. Best is trial 0 with value: 0.4437830687830688.\u001b[0m\n",
      "\u001b[32m[I 2021-03-02 06:41:26,504]\u001b[0m Trial 5 finished with value: 0.40119047619047615 and parameters: {'min_samples_split': 0.2027501525953027}. Best is trial 0 with value: 0.4437830687830688.\u001b[0m\n",
      "\u001b[32m[I 2021-03-02 06:41:26,525]\u001b[0m Trial 6 finished with value: 0.3641534391534391 and parameters: {'min_samples_split': 0.38613977216331524}. Best is trial 0 with value: 0.4437830687830688.\u001b[0m\n",
      "\u001b[32m[I 2021-03-02 06:41:26,546]\u001b[0m Trial 7 finished with value: 0.4437830687830688 and parameters: {'min_samples_split': 0.08435571899012612}. Best is trial 0 with value: 0.4437830687830688.\u001b[0m\n",
      "\u001b[32m[I 2021-03-02 06:41:26,569]\u001b[0m Trial 8 finished with value: 0.3641534391534391 and parameters: {'min_samples_split': 0.322191382889946}. Best is trial 0 with value: 0.4437830687830688.\u001b[0m\n",
      "\u001b[32m[I 2021-03-02 06:41:26,592]\u001b[0m Trial 9 finished with value: 0.4437830687830688 and parameters: {'min_samples_split': 0.1179866528971532}. Best is trial 0 with value: 0.4437830687830688.\u001b[0m\n",
      "Macro F1 médio:0.39380952380952383\n",
      ".\n",
      "----------------------------------------------------------------------\n",
      "Ran 1 test in 1.202s\n",
      "\n",
      "OK\n"
     ]
    }
   ],
   "source": [
    "!python3 -m tests ExperimentoTest.test_macro_f1_avg"
   ]
  },
  {
   "cell_type": "markdown",
   "metadata": {},
   "source": [
    "## Analise dos parametros"
   ]
  },
  {
   "cell_type": "markdown",
   "metadata": {},
   "source": [
    "Nesta parte você irá ver uma representação tabular e grafica que o auxiliará para analise de parametros. A representação grafica é por meio do hiplot. "
   ]
  },
  {
   "cell_type": "code",
   "execution_count": 16,
   "metadata": {},
   "outputs": [
    {
     "name": "stderr",
     "output_type": "stream",
     "text": [
      "\u001b[32m[I 2021-03-02 06:41:30,216]\u001b[0m A new study created in memory with name: no-name-7edd839c-706f-45dd-9914-56822446d578\u001b[0m\n",
      "/home/negreiros/workdir/cefet/7periodo/machine-learning/avaliacao/resultado.py:73: UndefinedMetricWarning: Não há elementos previstos para a classe 0 precisão foi definida como zero.\n",
      "  warnings.warn(\"Não há elementos previstos para a classe \"+str(classe)+\" precisão foi definida como zero.\", UndefinedMetricWarning)\n",
      "/home/negreiros/workdir/cefet/7periodo/machine-learning/avaliacao/resultado.py:93: UndefinedMetricWarning: Não há elementos da classe 0 revocação foi definida como zero.\n",
      "  warnings.warn(\"Não há elementos da classe \"+str(classe)+\" revocação foi definida como zero.\", UndefinedMetricWarning)\n",
      "/home/negreiros/workdir/cefet/7periodo/machine-learning/avaliacao/resultado.py:73: UndefinedMetricWarning: Não há elementos previstos para a classe 0 precisão foi definida como zero.\n",
      "  warnings.warn(\"Não há elementos previstos para a classe \"+str(classe)+\" precisão foi definida como zero.\", UndefinedMetricWarning)\n",
      "/home/negreiros/workdir/cefet/7periodo/machine-learning/avaliacao/resultado.py:73: UndefinedMetricWarning: Não há elementos previstos para a classe 0 precisão foi definida como zero.\n",
      "  warnings.warn(\"Não há elementos previstos para a classe \"+str(classe)+\" precisão foi definida como zero.\", UndefinedMetricWarning)\n",
      "/home/negreiros/workdir/cefet/7periodo/machine-learning/avaliacao/resultado.py:93: UndefinedMetricWarning: Não há elementos da classe 0 revocação foi definida como zero.\n",
      "  warnings.warn(\"Não há elementos da classe \"+str(classe)+\" revocação foi definida como zero.\", UndefinedMetricWarning)\n",
      "/home/negreiros/workdir/cefet/7periodo/machine-learning/avaliacao/resultado.py:73: UndefinedMetricWarning: Não há elementos previstos para a classe 0 precisão foi definida como zero.\n",
      "  warnings.warn(\"Não há elementos previstos para a classe \"+str(classe)+\" precisão foi definida como zero.\", UndefinedMetricWarning)\n",
      "\u001b[32m[I 2021-03-02 06:41:30,255]\u001b[0m Trial 0 finished with value: 0.353968253968254 and parameters: {'min_samples_split': 0.208511002351287, 'max_features': 0.36016224672107905, 'num_arvores': 2}. Best is trial 0 with value: 0.353968253968254.\u001b[0m\n",
      "/home/negreiros/workdir/cefet/7periodo/machine-learning/avaliacao/resultado.py:73: UndefinedMetricWarning: Não há elementos previstos para a classe 0 precisão foi definida como zero.\n",
      "  warnings.warn(\"Não há elementos previstos para a classe \"+str(classe)+\" precisão foi definida como zero.\", UndefinedMetricWarning)\n",
      "/home/negreiros/workdir/cefet/7periodo/machine-learning/avaliacao/resultado.py:73: UndefinedMetricWarning: Não há elementos previstos para a classe 0 precisão foi definida como zero.\n",
      "  warnings.warn(\"Não há elementos previstos para a classe \"+str(classe)+\" precisão foi definida como zero.\", UndefinedMetricWarning)\n",
      "/home/negreiros/workdir/cefet/7periodo/machine-learning/avaliacao/resultado.py:93: UndefinedMetricWarning: Não há elementos da classe 0 revocação foi definida como zero.\n",
      "  warnings.warn(\"Não há elementos da classe \"+str(classe)+\" revocação foi definida como zero.\", UndefinedMetricWarning)\n",
      "/home/negreiros/workdir/cefet/7periodo/machine-learning/avaliacao/resultado.py:73: UndefinedMetricWarning: Não há elementos previstos para a classe 0 precisão foi definida como zero.\n",
      "  warnings.warn(\"Não há elementos previstos para a classe \"+str(classe)+\" precisão foi definida como zero.\", UndefinedMetricWarning)\n",
      "/home/negreiros/workdir/cefet/7periodo/machine-learning/avaliacao/resultado.py:73: UndefinedMetricWarning: Não há elementos previstos para a classe 0 precisão foi definida como zero.\n",
      "  warnings.warn(\"Não há elementos previstos para a classe \"+str(classe)+\" precisão foi definida como zero.\", UndefinedMetricWarning)\n",
      "/home/negreiros/workdir/cefet/7periodo/machine-learning/avaliacao/resultado.py:73: UndefinedMetricWarning: Não há elementos previstos para a classe 0 precisão foi definida como zero.\n",
      "  warnings.warn(\"Não há elementos previstos para a classe \"+str(classe)+\" precisão foi definida como zero.\", UndefinedMetricWarning)\n",
      "/home/negreiros/workdir/cefet/7periodo/machine-learning/avaliacao/resultado.py:93: UndefinedMetricWarning: Não há elementos da classe 0 revocação foi definida como zero.\n",
      "  warnings.warn(\"Não há elementos da classe \"+str(classe)+\" revocação foi definida como zero.\", UndefinedMetricWarning)\n",
      "/home/negreiros/workdir/cefet/7periodo/machine-learning/avaliacao/resultado.py:73: UndefinedMetricWarning: Não há elementos previstos para a classe 0 precisão foi definida como zero.\n",
      "  warnings.warn(\"Não há elementos previstos para a classe \"+str(classe)+\" precisão foi definida como zero.\", UndefinedMetricWarning)\n",
      "\u001b[32m[I 2021-03-02 06:41:30,288]\u001b[0m Trial 1 finished with value: 0.36190476190476195 and parameters: {'min_samples_split': 0.15116628631591988, 'max_features': 0.07337794540855652, 'num_arvores': 1}. Best is trial 1 with value: 0.36190476190476195.\u001b[0m\n",
      "/home/negreiros/workdir/cefet/7periodo/machine-learning/avaliacao/resultado.py:73: UndefinedMetricWarning: Não há elementos previstos para a classe 0 precisão foi definida como zero.\n",
      "  warnings.warn(\"Não há elementos previstos para a classe \"+str(classe)+\" precisão foi definida como zero.\", UndefinedMetricWarning)\n",
      "/home/negreiros/workdir/cefet/7periodo/machine-learning/avaliacao/resultado.py:93: UndefinedMetricWarning: Não há elementos da classe 0 revocação foi definida como zero.\n",
      "  warnings.warn(\"Não há elementos da classe \"+str(classe)+\" revocação foi definida como zero.\", UndefinedMetricWarning)\n",
      "/home/negreiros/workdir/cefet/7periodo/machine-learning/avaliacao/resultado.py:73: UndefinedMetricWarning: Não há elementos previstos para a classe 0 precisão foi definida como zero.\n",
      "  warnings.warn(\"Não há elementos previstos para a classe \"+str(classe)+\" precisão foi definida como zero.\", UndefinedMetricWarning)\n",
      "/home/negreiros/workdir/cefet/7periodo/machine-learning/avaliacao/resultado.py:73: UndefinedMetricWarning: Não há elementos previstos para a classe 0 precisão foi definida como zero.\n",
      "  warnings.warn(\"Não há elementos previstos para a classe \"+str(classe)+\" precisão foi definida como zero.\", UndefinedMetricWarning)\n",
      "/home/negreiros/workdir/cefet/7periodo/machine-learning/avaliacao/resultado.py:73: UndefinedMetricWarning: Não há elementos previstos para a classe 0 precisão foi definida como zero.\n",
      "  warnings.warn(\"Não há elementos previstos para a classe \"+str(classe)+\" precisão foi definida como zero.\", UndefinedMetricWarning)\n",
      "/home/negreiros/workdir/cefet/7periodo/machine-learning/avaliacao/resultado.py:93: UndefinedMetricWarning: Não há elementos da classe 0 revocação foi definida como zero.\n",
      "  warnings.warn(\"Não há elementos da classe \"+str(classe)+\" revocação foi definida como zero.\", UndefinedMetricWarning)\n",
      "/home/negreiros/workdir/cefet/7periodo/machine-learning/avaliacao/resultado.py:73: UndefinedMetricWarning: Não há elementos previstos para a classe 0 precisão foi definida como zero.\n",
      "  warnings.warn(\"Não há elementos previstos para a classe \"+str(classe)+\" precisão foi definida como zero.\", UndefinedMetricWarning)\n",
      "\u001b[32m[I 2021-03-02 06:41:30,341]\u001b[0m Trial 2 finished with value: 0.4607142857142857 and parameters: {'min_samples_split': 0.19829036364801306, 'max_features': 0.1939553705810037, 'num_arvores': 5}. Best is trial 2 with value: 0.4607142857142857.\u001b[0m\n",
      "/home/negreiros/workdir/cefet/7periodo/machine-learning/avaliacao/resultado.py:73: UndefinedMetricWarning: Não há elementos previstos para a classe 0 precisão foi definida como zero.\n",
      "  warnings.warn(\"Não há elementos previstos para a classe \"+str(classe)+\" precisão foi definida como zero.\", UndefinedMetricWarning)\n",
      "/home/negreiros/workdir/cefet/7periodo/machine-learning/avaliacao/resultado.py:73: UndefinedMetricWarning: Não há elementos previstos para a classe 0 precisão foi definida como zero.\n",
      "  warnings.warn(\"Não há elementos previstos para a classe \"+str(classe)+\" precisão foi definida como zero.\", UndefinedMetricWarning)\n",
      "/home/negreiros/workdir/cefet/7periodo/machine-learning/avaliacao/resultado.py:93: UndefinedMetricWarning: Não há elementos da classe 0 revocação foi definida como zero.\n",
      "  warnings.warn(\"Não há elementos da classe \"+str(classe)+\" revocação foi definida como zero.\", UndefinedMetricWarning)\n",
      "/home/negreiros/workdir/cefet/7periodo/machine-learning/avaliacao/resultado.py:73: UndefinedMetricWarning: Não há elementos previstos para a classe 0 precisão foi definida como zero.\n",
      "  warnings.warn(\"Não há elementos previstos para a classe \"+str(classe)+\" precisão foi definida como zero.\", UndefinedMetricWarning)\n",
      "/home/negreiros/workdir/cefet/7periodo/machine-learning/avaliacao/resultado.py:73: UndefinedMetricWarning: Não há elementos previstos para a classe 0 precisão foi definida como zero.\n",
      "  warnings.warn(\"Não há elementos previstos para a classe \"+str(classe)+\" precisão foi definida como zero.\", UndefinedMetricWarning)\n",
      "/home/negreiros/workdir/cefet/7periodo/machine-learning/avaliacao/resultado.py:73: UndefinedMetricWarning: Não há elementos previstos para a classe 0 precisão foi definida como zero.\n",
      "  warnings.warn(\"Não há elementos previstos para a classe \"+str(classe)+\" precisão foi definida como zero.\", UndefinedMetricWarning)\n",
      "/home/negreiros/workdir/cefet/7periodo/machine-learning/avaliacao/resultado.py:93: UndefinedMetricWarning: Não há elementos da classe 0 revocação foi definida como zero.\n",
      "  warnings.warn(\"Não há elementos da classe \"+str(classe)+\" revocação foi definida como zero.\", UndefinedMetricWarning)\n",
      "/home/negreiros/workdir/cefet/7periodo/machine-learning/avaliacao/resultado.py:73: UndefinedMetricWarning: Não há elementos previstos para a classe 0 precisão foi definida como zero.\n",
      "  warnings.warn(\"Não há elementos previstos para a classe \"+str(classe)+\" precisão foi definida como zero.\", UndefinedMetricWarning)\n",
      "\u001b[32m[I 2021-03-02 06:41:30,399]\u001b[0m Trial 3 finished with value: 0.33306878306878307 and parameters: {'min_samples_split': 0.49396049182340646, 'max_features': 0.13866947090491732, 'num_arvores': 5}. Best is trial 2 with value: 0.4607142857142857.\u001b[0m\n"
     ]
    },
    {
     "name": "stderr",
     "output_type": "stream",
     "text": [
      "/home/negreiros/workdir/cefet/7periodo/machine-learning/avaliacao/resultado.py:73: UndefinedMetricWarning: Não há elementos previstos para a classe 0 precisão foi definida como zero.\n",
      "  warnings.warn(\"Não há elementos previstos para a classe \"+str(classe)+\" precisão foi definida como zero.\", UndefinedMetricWarning)\n",
      "/home/negreiros/workdir/cefet/7periodo/machine-learning/avaliacao/resultado.py:73: UndefinedMetricWarning: Não há elementos previstos para a classe 0 precisão foi definida como zero.\n",
      "  warnings.warn(\"Não há elementos previstos para a classe \"+str(classe)+\" precisão foi definida como zero.\", UndefinedMetricWarning)\n",
      "/home/negreiros/workdir/cefet/7periodo/machine-learning/avaliacao/resultado.py:93: UndefinedMetricWarning: Não há elementos da classe 0 revocação foi definida como zero.\n",
      "  warnings.warn(\"Não há elementos da classe \"+str(classe)+\" revocação foi definida como zero.\", UndefinedMetricWarning)\n",
      "/home/negreiros/workdir/cefet/7periodo/machine-learning/avaliacao/resultado.py:73: UndefinedMetricWarning: Não há elementos previstos para a classe 0 precisão foi definida como zero.\n",
      "  warnings.warn(\"Não há elementos previstos para a classe \"+str(classe)+\" precisão foi definida como zero.\", UndefinedMetricWarning)\n",
      "/home/negreiros/workdir/cefet/7periodo/machine-learning/avaliacao/resultado.py:73: UndefinedMetricWarning: Não há elementos previstos para a classe 0 precisão foi definida como zero.\n",
      "  warnings.warn(\"Não há elementos previstos para a classe \"+str(classe)+\" precisão foi definida como zero.\", UndefinedMetricWarning)\n",
      "/home/negreiros/workdir/cefet/7periodo/machine-learning/avaliacao/resultado.py:73: UndefinedMetricWarning: Não há elementos previstos para a classe 0 precisão foi definida como zero.\n",
      "  warnings.warn(\"Não há elementos previstos para a classe \"+str(classe)+\" precisão foi definida como zero.\", UndefinedMetricWarning)\n",
      "/home/negreiros/workdir/cefet/7periodo/machine-learning/avaliacao/resultado.py:93: UndefinedMetricWarning: Não há elementos da classe 0 revocação foi definida como zero.\n",
      "  warnings.warn(\"Não há elementos da classe \"+str(classe)+\" revocação foi definida como zero.\", UndefinedMetricWarning)\n",
      "/home/negreiros/workdir/cefet/7periodo/machine-learning/avaliacao/resultado.py:73: UndefinedMetricWarning: Não há elementos previstos para a classe 0 precisão foi definida como zero.\n",
      "  warnings.warn(\"Não há elementos previstos para a classe \"+str(classe)+\" precisão foi definida como zero.\", UndefinedMetricWarning)\n",
      "\u001b[32m[I 2021-03-02 06:41:30,463]\u001b[0m Trial 4 finished with value: 0.42791005291005296 and parameters: {'min_samples_split': 0.3984101118954964, 'max_features': 0.24849663259031068, 'num_arvores': 5}. Best is trial 2 with value: 0.4607142857142857.\u001b[0m\n",
      "/home/negreiros/workdir/cefet/7periodo/machine-learning/avaliacao/resultado.py:73: UndefinedMetricWarning: Não há elementos previstos para a classe 0 precisão foi definida como zero.\n",
      "  warnings.warn(\"Não há elementos previstos para a classe \"+str(classe)+\" precisão foi definida como zero.\", UndefinedMetricWarning)\n",
      "/home/negreiros/workdir/cefet/7periodo/machine-learning/avaliacao/resultado.py:73: UndefinedMetricWarning: Não há elementos previstos para a classe 0 precisão foi definida como zero.\n",
      "  warnings.warn(\"Não há elementos previstos para a classe \"+str(classe)+\" precisão foi definida como zero.\", UndefinedMetricWarning)\n",
      "/home/negreiros/workdir/cefet/7periodo/machine-learning/avaliacao/resultado.py:93: UndefinedMetricWarning: Não há elementos da classe 0 revocação foi definida como zero.\n",
      "  warnings.warn(\"Não há elementos da classe \"+str(classe)+\" revocação foi definida como zero.\", UndefinedMetricWarning)\n",
      "/home/negreiros/workdir/cefet/7periodo/machine-learning/avaliacao/resultado.py:73: UndefinedMetricWarning: Não há elementos previstos para a classe 0 precisão foi definida como zero.\n",
      "  warnings.warn(\"Não há elementos previstos para a classe \"+str(classe)+\" precisão foi definida como zero.\", UndefinedMetricWarning)\n",
      "/home/negreiros/workdir/cefet/7periodo/machine-learning/avaliacao/resultado.py:73: UndefinedMetricWarning: Não há elementos previstos para a classe 0 precisão foi definida como zero.\n",
      "  warnings.warn(\"Não há elementos previstos para a classe \"+str(classe)+\" precisão foi definida como zero.\", UndefinedMetricWarning)\n",
      "/home/negreiros/workdir/cefet/7periodo/machine-learning/avaliacao/resultado.py:73: UndefinedMetricWarning: Não há elementos previstos para a classe 0 precisão foi definida como zero.\n",
      "  warnings.warn(\"Não há elementos previstos para a classe \"+str(classe)+\" precisão foi definida como zero.\", UndefinedMetricWarning)\n",
      "/home/negreiros/workdir/cefet/7periodo/machine-learning/avaliacao/resultado.py:93: UndefinedMetricWarning: Não há elementos da classe 0 revocação foi definida como zero.\n",
      "  warnings.warn(\"Não há elementos da classe \"+str(classe)+\" revocação foi definida como zero.\", UndefinedMetricWarning)\n",
      "/home/negreiros/workdir/cefet/7periodo/machine-learning/avaliacao/resultado.py:73: UndefinedMetricWarning: Não há elementos previstos para a classe 0 precisão foi definida como zero.\n",
      "  warnings.warn(\"Não há elementos previstos para a classe \"+str(classe)+\" precisão foi definida como zero.\", UndefinedMetricWarning)\n",
      "\u001b[32m[I 2021-03-02 06:41:30,518]\u001b[0m Trial 5 finished with value: 0.4080687830687831 and parameters: {'min_samples_split': 0.015216545745559085, 'max_features': 0.4890827850083142, 'num_arvores': 4}. Best is trial 2 with value: 0.4607142857142857.\u001b[0m\n",
      "/home/negreiros/workdir/cefet/7periodo/machine-learning/avaliacao/resultado.py:73: UndefinedMetricWarning: Não há elementos previstos para a classe 0 precisão foi definida como zero.\n",
      "  warnings.warn(\"Não há elementos previstos para a classe \"+str(classe)+\" precisão foi definida como zero.\", UndefinedMetricWarning)\n",
      "/home/negreiros/workdir/cefet/7periodo/machine-learning/avaliacao/resultado.py:73: UndefinedMetricWarning: Não há elementos previstos para a classe 0 precisão foi definida como zero.\n",
      "  warnings.warn(\"Não há elementos previstos para a classe \"+str(classe)+\" precisão foi definida como zero.\", UndefinedMetricWarning)\n",
      "/home/negreiros/workdir/cefet/7periodo/machine-learning/avaliacao/resultado.py:93: UndefinedMetricWarning: Não há elementos da classe 0 revocação foi definida como zero.\n",
      "  warnings.warn(\"Não há elementos da classe \"+str(classe)+\" revocação foi definida como zero.\", UndefinedMetricWarning)\n",
      "/home/negreiros/workdir/cefet/7periodo/machine-learning/avaliacao/resultado.py:73: UndefinedMetricWarning: Não há elementos previstos para a classe 0 precisão foi definida como zero.\n",
      "  warnings.warn(\"Não há elementos previstos para a classe \"+str(classe)+\" precisão foi definida como zero.\", UndefinedMetricWarning)\n",
      "/home/negreiros/workdir/cefet/7periodo/machine-learning/avaliacao/resultado.py:73: UndefinedMetricWarning: Não há elementos previstos para a classe 0 precisão foi definida como zero.\n",
      "  warnings.warn(\"Não há elementos previstos para a classe \"+str(classe)+\" precisão foi definida como zero.\", UndefinedMetricWarning)\n",
      "/home/negreiros/workdir/cefet/7periodo/machine-learning/avaliacao/resultado.py:73: UndefinedMetricWarning: Não há elementos previstos para a classe 0 precisão foi definida como zero.\n",
      "  warnings.warn(\"Não há elementos previstos para a classe \"+str(classe)+\" precisão foi definida como zero.\", UndefinedMetricWarning)\n",
      "/home/negreiros/workdir/cefet/7periodo/machine-learning/avaliacao/resultado.py:93: UndefinedMetricWarning: Não há elementos da classe 0 revocação foi definida como zero.\n",
      "  warnings.warn(\"Não há elementos da classe \"+str(classe)+\" revocação foi definida como zero.\", UndefinedMetricWarning)\n",
      "/home/negreiros/workdir/cefet/7periodo/machine-learning/avaliacao/resultado.py:73: UndefinedMetricWarning: Não há elementos previstos para a classe 0 precisão foi definida como zero.\n",
      "  warnings.warn(\"Não há elementos previstos para a classe \"+str(classe)+\" precisão foi definida como zero.\", UndefinedMetricWarning)\n",
      "\u001b[32m[I 2021-03-02 06:41:30,566]\u001b[0m Trial 6 finished with value: 0.4293650793650794 and parameters: {'min_samples_split': 0.0686603551739623, 'max_features': 0.21163140411737202, 'num_arvores': 3}. Best is trial 2 with value: 0.4607142857142857.\u001b[0m\n",
      "/home/negreiros/workdir/cefet/7periodo/machine-learning/avaliacao/resultado.py:73: UndefinedMetricWarning: Não há elementos previstos para a classe 0 precisão foi definida como zero.\n",
      "  warnings.warn(\"Não há elementos previstos para a classe \"+str(classe)+\" precisão foi definida como zero.\", UndefinedMetricWarning)\n",
      "/home/negreiros/workdir/cefet/7periodo/machine-learning/avaliacao/resultado.py:73: UndefinedMetricWarning: Não há elementos previstos para a classe 0 precisão foi definida como zero.\n",
      "  warnings.warn(\"Não há elementos previstos para a classe \"+str(classe)+\" precisão foi definida como zero.\", UndefinedMetricWarning)\n",
      "/home/negreiros/workdir/cefet/7periodo/machine-learning/avaliacao/resultado.py:93: UndefinedMetricWarning: Não há elementos da classe 0 revocação foi definida como zero.\n",
      "  warnings.warn(\"Não há elementos da classe \"+str(classe)+\" revocação foi definida como zero.\", UndefinedMetricWarning)\n",
      "/home/negreiros/workdir/cefet/7periodo/machine-learning/avaliacao/resultado.py:73: UndefinedMetricWarning: Não há elementos previstos para a classe 0 precisão foi definida como zero.\n",
      "  warnings.warn(\"Não há elementos previstos para a classe \"+str(classe)+\" precisão foi definida como zero.\", UndefinedMetricWarning)\n",
      "/home/negreiros/workdir/cefet/7periodo/machine-learning/avaliacao/resultado.py:73: UndefinedMetricWarning: Não há elementos previstos para a classe 0 precisão foi definida como zero.\n",
      "  warnings.warn(\"Não há elementos previstos para a classe \"+str(classe)+\" precisão foi definida como zero.\", UndefinedMetricWarning)\n",
      "/home/negreiros/workdir/cefet/7periodo/machine-learning/avaliacao/resultado.py:73: UndefinedMetricWarning: Não há elementos previstos para a classe 0 precisão foi definida como zero.\n",
      "  warnings.warn(\"Não há elementos previstos para a classe \"+str(classe)+\" precisão foi definida como zero.\", UndefinedMetricWarning)\n",
      "/home/negreiros/workdir/cefet/7periodo/machine-learning/avaliacao/resultado.py:93: UndefinedMetricWarning: Não há elementos da classe 0 revocação foi definida como zero.\n",
      "  warnings.warn(\"Não há elementos da classe \"+str(classe)+\" revocação foi definida como zero.\", UndefinedMetricWarning)\n"
     ]
    },
    {
     "name": "stderr",
     "output_type": "stream",
     "text": [
      "/home/negreiros/workdir/cefet/7periodo/machine-learning/avaliacao/resultado.py:73: UndefinedMetricWarning: Não há elementos previstos para a classe 0 precisão foi definida como zero.\n",
      "  warnings.warn(\"Não há elementos previstos para a classe \"+str(classe)+\" precisão foi definida como zero.\", UndefinedMetricWarning)\n",
      "\u001b[32m[I 2021-03-02 06:41:30,622]\u001b[0m Trial 7 finished with value: 0.4005291005291005 and parameters: {'min_samples_split': 0.334173583485962, 'max_features': 0.010697622068916779, 'num_arvores': 4}. Best is trial 2 with value: 0.4607142857142857.\u001b[0m\n",
      "/home/negreiros/workdir/cefet/7periodo/machine-learning/avaliacao/resultado.py:73: UndefinedMetricWarning: Não há elementos previstos para a classe 0 precisão foi definida como zero.\n",
      "  warnings.warn(\"Não há elementos previstos para a classe \"+str(classe)+\" precisão foi definida como zero.\", UndefinedMetricWarning)\n",
      "/home/negreiros/workdir/cefet/7periodo/machine-learning/avaliacao/resultado.py:93: UndefinedMetricWarning: Não há elementos da classe 0 revocação foi definida como zero.\n",
      "  warnings.warn(\"Não há elementos da classe \"+str(classe)+\" revocação foi definida como zero.\", UndefinedMetricWarning)\n",
      "/home/negreiros/workdir/cefet/7periodo/machine-learning/avaliacao/resultado.py:73: UndefinedMetricWarning: Não há elementos previstos para a classe 0 precisão foi definida como zero.\n",
      "  warnings.warn(\"Não há elementos previstos para a classe \"+str(classe)+\" precisão foi definida como zero.\", UndefinedMetricWarning)\n",
      "/home/negreiros/workdir/cefet/7periodo/machine-learning/avaliacao/resultado.py:73: UndefinedMetricWarning: Não há elementos previstos para a classe 0 precisão foi definida como zero.\n",
      "  warnings.warn(\"Não há elementos previstos para a classe \"+str(classe)+\" precisão foi definida como zero.\", UndefinedMetricWarning)\n",
      "/home/negreiros/workdir/cefet/7periodo/machine-learning/avaliacao/resultado.py:93: UndefinedMetricWarning: Não há elementos da classe 0 revocação foi definida como zero.\n",
      "  warnings.warn(\"Não há elementos da classe \"+str(classe)+\" revocação foi definida como zero.\", UndefinedMetricWarning)\n",
      "/home/negreiros/workdir/cefet/7periodo/machine-learning/avaliacao/resultado.py:73: UndefinedMetricWarning: Não há elementos previstos para a classe 0 precisão foi definida como zero.\n",
      "  warnings.warn(\"Não há elementos previstos para a classe \"+str(classe)+\" precisão foi definida como zero.\", UndefinedMetricWarning)\n",
      "\u001b[32m[I 2021-03-02 06:41:30,684]\u001b[0m Trial 8 finished with value: 0.522883597883598 and parameters: {'min_samples_split': 0.12675948077877125, 'max_features': 0.3859116591660027, 'num_arvores': 5}. Best is trial 8 with value: 0.522883597883598.\u001b[0m\n",
      "/home/negreiros/workdir/cefet/7periodo/machine-learning/avaliacao/resultado.py:73: UndefinedMetricWarning: Não há elementos previstos para a classe 0 precisão foi definida como zero.\n",
      "  warnings.warn(\"Não há elementos previstos para a classe \"+str(classe)+\" precisão foi definida como zero.\", UndefinedMetricWarning)\n",
      "/home/negreiros/workdir/cefet/7periodo/machine-learning/avaliacao/resultado.py:73: UndefinedMetricWarning: Não há elementos previstos para a classe 0 precisão foi definida como zero.\n",
      "  warnings.warn(\"Não há elementos previstos para a classe \"+str(classe)+\" precisão foi definida como zero.\", UndefinedMetricWarning)\n",
      "/home/negreiros/workdir/cefet/7periodo/machine-learning/avaliacao/resultado.py:93: UndefinedMetricWarning: Não há elementos da classe 0 revocação foi definida como zero.\n",
      "  warnings.warn(\"Não há elementos da classe \"+str(classe)+\" revocação foi definida como zero.\", UndefinedMetricWarning)\n",
      "/home/negreiros/workdir/cefet/7periodo/machine-learning/avaliacao/resultado.py:73: UndefinedMetricWarning: Não há elementos previstos para a classe 0 precisão foi definida como zero.\n",
      "  warnings.warn(\"Não há elementos previstos para a classe \"+str(classe)+\" precisão foi definida como zero.\", UndefinedMetricWarning)\n",
      "/home/negreiros/workdir/cefet/7periodo/machine-learning/avaliacao/resultado.py:73: UndefinedMetricWarning: Não há elementos previstos para a classe 0 precisão foi definida como zero.\n",
      "  warnings.warn(\"Não há elementos previstos para a classe \"+str(classe)+\" precisão foi definida como zero.\", UndefinedMetricWarning)\n",
      "/home/negreiros/workdir/cefet/7periodo/machine-learning/avaliacao/resultado.py:73: UndefinedMetricWarning: Não há elementos previstos para a classe 0 precisão foi definida como zero.\n",
      "  warnings.warn(\"Não há elementos previstos para a classe \"+str(classe)+\" precisão foi definida como zero.\", UndefinedMetricWarning)\n",
      "/home/negreiros/workdir/cefet/7periodo/machine-learning/avaliacao/resultado.py:93: UndefinedMetricWarning: Não há elementos da classe 0 revocação foi definida como zero.\n",
      "  warnings.warn(\"Não há elementos da classe \"+str(classe)+\" revocação foi definida como zero.\", UndefinedMetricWarning)\n",
      "/home/negreiros/workdir/cefet/7periodo/machine-learning/avaliacao/resultado.py:73: UndefinedMetricWarning: Não há elementos previstos para a classe 0 precisão foi definida como zero.\n",
      "  warnings.warn(\"Não há elementos previstos para a classe \"+str(classe)+\" precisão foi definida como zero.\", UndefinedMetricWarning)\n",
      "\u001b[32m[I 2021-03-02 06:41:30,734]\u001b[0m Trial 9 finished with value: 0.4293650793650794 and parameters: {'min_samples_split': 0.09416205779974984, 'max_features': 0.39450645033923304, 'num_arvores': 3}. Best is trial 8 with value: 0.522883597883598.\u001b[0m\n"
     ]
    },
    {
     "ename": "AttributeError",
     "evalue": "type object 'OtimizacaoObjetivoRandomForest' has no attribute 'num_arvores_max'",
     "output_type": "error",
     "traceback": [
      "\u001b[0;31m---------------------------------------------------------------------------\u001b[0m",
      "\u001b[0;31mAttributeError\u001b[0m                            Traceback (most recent call last)",
      "\u001b[0;32m<ipython-input-16-de474d267d1a>\u001b[0m in \u001b[0;36m<module>\u001b[0;34m\u001b[0m\n\u001b[1;32m     18\u001b[0m exp = Experimento(folds,ml_method, OtimizacaoObjetivoRandomForest, num_trials=10,\n\u001b[1;32m     19\u001b[0m                     sampler=optuna.samplers.TPESampler(seed=1, n_startup_trials=3))\n\u001b[0;32m---> 20\u001b[0;31m \u001b[0mexp\u001b[0m\u001b[0;34m.\u001b[0m\u001b[0mcalcula_resultados\u001b[0m\u001b[0;34m(\u001b[0m\u001b[0;34m)\u001b[0m\u001b[0;34m\u001b[0m\u001b[0;34m\u001b[0m\u001b[0m\n\u001b[0m\u001b[1;32m     21\u001b[0m \u001b[0;34m\u001b[0m\u001b[0m\n",
      "\u001b[0;32m~/workdir/cefet/7periodo/machine-learning/avaliacao/avaliacao.py\u001b[0m in \u001b[0;36mcalcula_resultados\u001b[0;34m(self)\u001b[0m\n\u001b[1;32m     58\u001b[0m                 \u001b[0;31m#  . use o vetor arr_evaluated_methods e o número do best_trial (study.best_trial.number)\u001b[0m\u001b[0;34m\u001b[0m\u001b[0;34m\u001b[0m\u001b[0;34m\u001b[0m\u001b[0m\n\u001b[1;32m     59\u001b[0m                 \u001b[0;31m# best_method = self.ClasseObjetivoOtimizacao.arr_evaluated_methods[study.best_trial.number]\u001b[0m\u001b[0;34m\u001b[0m\u001b[0;34m\u001b[0m\u001b[0;34m\u001b[0m\u001b[0m\n\u001b[0;32m---> 60\u001b[0;31m                 \u001b[0mbest_method\u001b[0m \u001b[0;34m=\u001b[0m \u001b[0mself\u001b[0m\u001b[0;34m.\u001b[0m\u001b[0mClasseObjetivoOtimizacao\u001b[0m\u001b[0;34m.\u001b[0m\u001b[0mobtem_metodo\u001b[0m\u001b[0;34m(\u001b[0m\u001b[0mself\u001b[0m\u001b[0;34m=\u001b[0m\u001b[0mself\u001b[0m\u001b[0;34m.\u001b[0m\u001b[0mClasseObjetivoOtimizacao\u001b[0m\u001b[0;34m,\u001b[0m \u001b[0mtrial\u001b[0m\u001b[0;34m=\u001b[0m\u001b[0mstudy\u001b[0m\u001b[0;34m.\u001b[0m\u001b[0mbest_trial\u001b[0m\u001b[0;34m)\u001b[0m\u001b[0;34m\u001b[0m\u001b[0;34m\u001b[0m\u001b[0m\n\u001b[0m\u001b[1;32m     61\u001b[0m                 \u001b[0mself\u001b[0m\u001b[0;34m.\u001b[0m\u001b[0mstudies_per_fold\u001b[0m\u001b[0;34m.\u001b[0m\u001b[0mappend\u001b[0m\u001b[0;34m(\u001b[0m\u001b[0mstudy\u001b[0m\u001b[0;34m)\u001b[0m\u001b[0;34m\u001b[0m\u001b[0;34m\u001b[0m\u001b[0m\n\u001b[1;32m     62\u001b[0m             \u001b[0;32melse\u001b[0m\u001b[0;34m:\u001b[0m\u001b[0;34m\u001b[0m\u001b[0;34m\u001b[0m\u001b[0m\n",
      "\u001b[0;32m~/workdir/cefet/7periodo/machine-learning/avaliacao/avaliacao.py\u001b[0m in \u001b[0;36mobtem_metodo\u001b[0;34m(self, trial)\u001b[0m\n\u001b[1;32m    138\u001b[0m         \u001b[0mmin_samples_split\u001b[0m \u001b[0;34m=\u001b[0m \u001b[0mtrial\u001b[0m\u001b[0;34m.\u001b[0m\u001b[0msuggest_uniform\u001b[0m\u001b[0;34m(\u001b[0m\u001b[0;34m'min_samples_split'\u001b[0m\u001b[0;34m,\u001b[0m \u001b[0;36m0\u001b[0m\u001b[0;34m,\u001b[0m \u001b[0;36m0.5\u001b[0m\u001b[0;34m)\u001b[0m\u001b[0;34m\u001b[0m\u001b[0;34m\u001b[0m\u001b[0m\n\u001b[1;32m    139\u001b[0m         \u001b[0mmax_features\u001b[0m \u001b[0;34m=\u001b[0m \u001b[0mtrial\u001b[0m\u001b[0;34m.\u001b[0m\u001b[0msuggest_uniform\u001b[0m\u001b[0;34m(\u001b[0m\u001b[0;34m'max_features'\u001b[0m\u001b[0;34m,\u001b[0m \u001b[0;36m0\u001b[0m\u001b[0;34m,\u001b[0m \u001b[0;36m0.5\u001b[0m\u001b[0;34m)\u001b[0m\u001b[0;34m\u001b[0m\u001b[0;34m\u001b[0m\u001b[0m\n\u001b[0;32m--> 140\u001b[0;31m         \u001b[0mnum_arvores\u001b[0m \u001b[0;34m=\u001b[0m \u001b[0mtrial\u001b[0m\u001b[0;34m.\u001b[0m\u001b[0msuggest_int\u001b[0m\u001b[0;34m(\u001b[0m\u001b[0;34m'num_arvores'\u001b[0m\u001b[0;34m,\u001b[0m \u001b[0;36m1\u001b[0m\u001b[0;34m,\u001b[0m \u001b[0mself\u001b[0m\u001b[0;34m.\u001b[0m\u001b[0mnum_arvores_max\u001b[0m\u001b[0;34m)\u001b[0m\u001b[0;34m\u001b[0m\u001b[0;34m\u001b[0m\u001b[0m\n\u001b[0m\u001b[1;32m    141\u001b[0m         \u001b[0;31m#coloque, ao instanciar o RandomForestClassifier como random_state=2\u001b[0m\u001b[0;34m\u001b[0m\u001b[0;34m\u001b[0m\u001b[0;34m\u001b[0m\u001b[0m\n\u001b[1;32m    142\u001b[0m         \u001b[0mclf_rf\u001b[0m \u001b[0;34m=\u001b[0m \u001b[0mRandomForestClassifier\u001b[0m\u001b[0;34m(\u001b[0m\u001b[0mn_estimators\u001b[0m\u001b[0;34m=\u001b[0m\u001b[0mnum_arvores\u001b[0m\u001b[0;34m,\u001b[0m \u001b[0mmin_samples_split\u001b[0m\u001b[0;34m=\u001b[0m\u001b[0mmin_samples_split\u001b[0m\u001b[0;34m,\u001b[0m \u001b[0mmax_features\u001b[0m\u001b[0;34m=\u001b[0m\u001b[0mmax_features\u001b[0m\u001b[0;34m,\u001b[0m \u001b[0mrandom_state\u001b[0m\u001b[0;34m=\u001b[0m\u001b[0;36m2\u001b[0m\u001b[0;34m)\u001b[0m\u001b[0;34m\u001b[0m\u001b[0;34m\u001b[0m\u001b[0m\n",
      "\u001b[0;31mAttributeError\u001b[0m: type object 'OtimizacaoObjetivoRandomForest' has no attribute 'num_arvores_max'"
     ]
    }
   ],
   "source": [
    "import hiplot as hip \n",
    "from sklearn.ensemble import RandomForestClassifier\n",
    "import optuna\n",
    "\n",
    "from avaliacao import Experimento, OtimizacaoObjetivoRandomForest, Experimento\n",
    "from resultado import Resultado,Fold\n",
    "from metodo import ScikitLearnAprendizadoDeMaquina\n",
    "from tests import Dados\n",
    "\n",
    "\n",
    "#gera o fold e p experimento\n",
    "folds = Fold.gerar_k_folds(Dados.df_dados,val_k=5,col_classe=\"realClass\",\n",
    "                            num_repeticoes=1,seed=1,\n",
    "                            num_folds_validacao=3,num_repeticoes_validacao=2)\n",
    "\n",
    "clf_dtree = RandomForestClassifier(random_state=1)\n",
    "ml_method = ScikitLearnAprendizadoDeMaquina(clf_dtree)\n",
    "\n",
    "# PROFESSOR HASAN:\n",
    "# Por algum motivo o código abaixo está apresentando erro na parte de OtimizacaoObjetivoRandomForest, onde o _init_\n",
    "# da classe parece não estar sendo chamado, e portanto self.num_arvores_max não existe. Não consegui descobrir o\n",
    "# por que até a data de entrega. Todos os outros trechos de código ou células que dependem dessa classe, mesmo com\n",
    "# o próprio uso do obtem_metodo como nos testes prévios, não há algum erro, apenas no código abaixo.\n",
    "\n",
    "exp = Experimento(folds,ml_method, OtimizacaoObjetivoRandomForest, num_trials=10,\n",
    "                    sampler=optuna.samplers.TPESampler(seed=1, n_startup_trials=3))\n",
    "exp.calcula_resultados()\n",
    "\n"
   ]
  },
  {
   "cell_type": "markdown",
   "metadata": {},
   "source": [
    "Forma tabular via dataframe:"
   ]
  },
  {
   "cell_type": "code",
   "execution_count": 17,
   "metadata": {},
   "outputs": [
    {
     "ename": "IndexError",
     "evalue": "list index out of range",
     "output_type": "error",
     "traceback": [
      "\u001b[0;31m---------------------------------------------------------------------------\u001b[0m",
      "\u001b[0;31mIndexError\u001b[0m                                Traceback (most recent call last)",
      "\u001b[0;32m<ipython-input-17-58e8b0fbecdf>\u001b[0m in \u001b[0;36m<module>\u001b[0;34m\u001b[0m\n\u001b[0;32m----> 1\u001b[0;31m \u001b[0mstuddy_fold_0\u001b[0m \u001b[0;34m=\u001b[0m \u001b[0mexp\u001b[0m\u001b[0;34m.\u001b[0m\u001b[0mstudies_per_fold\u001b[0m\u001b[0;34m[\u001b[0m\u001b[0;36m0\u001b[0m\u001b[0;34m]\u001b[0m\u001b[0;34m\u001b[0m\u001b[0;34m\u001b[0m\u001b[0m\n\u001b[0m\u001b[1;32m      2\u001b[0m \u001b[0mstuddy_fold_0\u001b[0m\u001b[0;34m.\u001b[0m\u001b[0mtrials_dataframe\u001b[0m\u001b[0;34m(\u001b[0m\u001b[0;34m)\u001b[0m\u001b[0;34m.\u001b[0m\u001b[0msort_values\u001b[0m\u001b[0;34m(\u001b[0m\u001b[0;34m\"value\"\u001b[0m\u001b[0;34m,\u001b[0m\u001b[0mascending\u001b[0m\u001b[0;34m=\u001b[0m\u001b[0;32mFalse\u001b[0m\u001b[0;34m)\u001b[0m\u001b[0;34m\u001b[0m\u001b[0;34m\u001b[0m\u001b[0m\n",
      "\u001b[0;31mIndexError\u001b[0m: list index out of range"
     ]
    }
   ],
   "source": [
    "studdy_fold_0 = exp.studies_per_fold[0]\n",
    "studdy_fold_0.trials_dataframe().sort_values(\"value\",ascending=False)"
   ]
  },
  {
   "cell_type": "code",
   "execution_count": null,
   "metadata": {},
   "outputs": [],
   "source": [
    "#gera grafico da variacao de parametros (apenas fold 0)\n",
    "trials_fold_0 = exp.studies_per_fold[0].trials\n",
    "data = [{**trial.params, 'loss': trial.value} for trial in trials_fold_0]\n",
    "#data = [{'dropout':0.1, 'lr': 0.001, 'loss': 10.0, 'optimizer': 'SGD'}, {'dropout':0.15, 'lr': 0.01, 'loss': 3.5, 'optimizer': 'Adam'}, {'dropout':0.3, 'lr': 0.1, 'loss': 4.5, 'optimizer': 'Adam'}]\n",
    "hip.Experiment.from_iterable(data).display(force_full_width=True)"
   ]
  },
  {
   "cell_type": "markdown",
   "metadata": {},
   "source": [
    "Você analisou só um fold. Pode-se analisar diversos folds e, principalmente, ver se os melhores parametros de um fold é muito parecido ou não que o outro. Para a prática, fizemos com poucas tentativas. O ideal também é fazemos tentativas. Pelo menos centenas , porém, caso esteja muito dificil de encontrar parametros com bons resultados - ou a quantidade de parametros seja muito grande - seria interessante milhares. Sobre a quantidade de folds, geralmente usa-se muito 10 folds. \n",
    "\n",
    "A quantidade de tentativas e folds é um dos motivos que o tempo de execução e obtenção dos resultados de um método é muito demorada (podendo, as vezes, demorar dias/semanas). Por isso também, é muito importante salvar o modelo criado."
   ]
  }
 ],
 "metadata": {
  "kernelspec": {
   "display_name": "Python 3",
   "language": "python",
   "name": "python3"
  },
  "language_info": {
   "codemirror_mode": {
    "name": "ipython",
    "version": 3
   },
   "file_extension": ".py",
   "mimetype": "text/x-python",
   "name": "python",
   "nbconvert_exporter": "python",
   "pygments_lexer": "ipython3",
   "version": "3.9.1"
  }
 },
 "nbformat": 4,
 "nbformat_minor": 2
}

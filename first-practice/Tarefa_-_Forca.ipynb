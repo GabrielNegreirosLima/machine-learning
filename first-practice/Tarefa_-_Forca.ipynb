{
 "cells": [
  {
   "cell_type": "markdown",
   "metadata": {},
   "source": [
    "Implemente as funções abaixo. Você não deverá usar variáveis globais."
   ]
  },
  {
   "cell_type": "code",
   "execution_count": 1,
   "metadata": {},
   "outputs": [],
   "source": [
    "from typing import List, Set\n",
    "import random"
   ]
  },
  {
   "cell_type": "markdown",
   "metadata": {},
   "source": [
    "### Atividade 1: \n",
    "Escolhe aleatoriamente uma posição do vetor de arr_palavras, use e entenda a biblioteca random do python para isso. Não esqueça de dar import na biblioteca. Coloque isso n célula acima"
   ]
  },
  {
   "cell_type": "code",
   "execution_count": 2,
   "metadata": {
    "colab": {},
    "colab_type": "code",
    "id": "oP-SSFJMKxbw"
   },
   "outputs": [],
   "source": [
    "# A sintaxe arr_palavras:List[str] dava erro \n",
    "def escolhe_palavra(arr_palavras):\n",
    "\n",
    "    indice_palavra = random.randrange(0, len(arr_palavras))\n",
    "    return arr_palavras[indice_palavra]"
   ]
  },
  {
   "cell_type": "code",
   "execution_count": 3,
   "metadata": {
    "colab": {},
    "colab_type": "code",
    "id": "LzFJmwhULVJP"
   },
   "outputs": [
    {
     "data": {
      "text/plain": [
       "'learning'"
      ]
     },
     "execution_count": 3,
     "metadata": {},
     "output_type": "execute_result"
    }
   ],
   "source": [
    "#Faça aqui um teste desta função\n",
    "escolhe_palavra([\"Machine\",\"learning\",\"é\", \"legal\"])"
   ]
  },
  {
   "cell_type": "markdown",
   "metadata": {},
   "source": [
    "### Atividade 2: \n",
    "Em uma determinada palavra, obtem as posições em que ocorre a letra, ambas passadas como paramêtro"
   ]
  },
  {
   "cell_type": "code",
   "execution_count": 4,
   "metadata": {
    "colab": {},
    "colab_type": "code",
    "id": "-m_T1uUiK-jp"
   },
   "outputs": [],
   "source": [
    "def obtem_posicoes_letra(palavra:str, letra:str):\n",
    "    set_posicoes = set()\n",
    "    \n",
    "    for i, letra_palavra in enumerate(palavra):\n",
    "        if letra_palavra == letra:\n",
    "            set_posicoes.add(i)\n",
    "    return set_posicoes"
   ]
  },
  {
   "cell_type": "code",
   "execution_count": 5,
   "metadata": {
    "colab": {},
    "colab_type": "code",
    "id": "k3LulOUBLbiC"
   },
   "outputs": [
    {
     "data": {
      "text/plain": [
       "{0, 3}"
      ]
     },
     "execution_count": 5,
     "metadata": {},
     "output_type": "execute_result"
    }
   ],
   "source": [
    "#Faça aqui um teste desta função\n",
    "obtem_posicoes_letra(\"teste\", \"t\")"
   ]
  },
  {
   "cell_type": "markdown",
   "metadata": {},
   "source": [
    "### Atividade 3\n",
    "Imprime a palavra a ser exibida na tela exibindo apenas os caracteres das posições descobertas. Por exemplo, se a palavra for \"casaco\" e as posições descobertas forem {1,3,5}, será impresso \"_ a _ a _ o\". Nesta atividade, você deverá alterar apenas o if apropriadamente."
   ]
  },
  {
   "cell_type": "code",
   "execution_count": 6,
   "metadata": {
    "colab": {},
    "colab_type": "code",
    "id": "dk8OJgxGLOog"
   },
   "outputs": [],
   "source": [
    "from IPython.display import clear_output\n",
    "def imprime_forca(palavra_forca:str, posicoes_descobertas:Set[int]):\n",
    "    \n",
    "    #clear_output(wait=False)\n",
    "    #palavra_exibida = obtem_palavra_exibida(palavra_forca, posicoes_descobertas)\n",
    "    for posicao,letra in enumerate(palavra_forca):\n",
    "        if posicao in posicoes_descobertas: # +1 para ajustar o início\n",
    "            print(letra,end=\" \")\n",
    "        else:\n",
    "            print(\"_\",end=\" \")"
   ]
  },
  {
   "cell_type": "code",
   "execution_count": 7,
   "metadata": {
    "colab": {},
    "colab_type": "code",
    "id": "j4J5eA54LhmE"
   },
   "outputs": [
    {
     "name": "stdout",
     "output_type": "stream",
     "text": [
      "_ a _ a _ o _ _ _ _ _ _ _ "
     ]
    }
   ],
   "source": [
    "#Faça aqui um teste desta função\n",
    "imprime_forca(\"casaco grande\", (1, 3, 5))"
   ]
  },
  {
   "cell_type": "markdown",
   "metadata": {},
   "source": [
    "### Atividade 4\n",
    "implemente o jogo da forca usando as funções criadas"
   ]
  },
  {
   "cell_type": "code",
   "execution_count": 56,
   "metadata": {
    "colab": {},
    "colab_type": "code",
    "id": "uGLnnSeCLTLf"
   },
   "outputs": [],
   "source": [
    "def jogo_forca(arr_palavras):\n",
    "    palavra = escolhe_palavra(arr_palavras)\n",
    "    print(\"Bem vindo a Forca! A palavra escolhida é:\" + palavra)\n",
    "    \n",
    "    imprime_forca(palavra, ())\n",
    "    tentativas = 0\n",
    "    posicoes = set()\n",
    "\n",
    "    while tentativas <= len(palavra)*0.8: # limite de tentativas é no maximo 80% da palavra\n",
    "        letra = input()\n",
    "        posicoes = posicoes | obtem_posicoes_letra(palavra, letra)\n",
    "        \n",
    "        if len(posicoes) == 0:\n",
    "            print(\"Errou!\")\n",
    "            continue\n",
    "        \n",
    "        imprime_forca(palavra, posicoes)\n",
    "        if len(posicoes) == len(palavra):\n",
    "            print(\"Parabéns! Você ganhou.\")\n",
    "            return \n",
    "        tentativas += 1\n",
    "        \n",
    "    print(\"Você perdeu! :(\")\n"
   ]
  },
  {
   "cell_type": "code",
   "execution_count": 57,
   "metadata": {},
   "outputs": [
    {
     "name": "stdout",
     "output_type": "stream",
     "text": [
      "Bem vindo a Forca! A palavra escolhida é:palavragrandassa\n",
      "_ _ _ _ _ _ _ _ _ _ _ _ _ _ _ _ "
     ]
    },
    {
     "name": "stdin",
     "output_type": "stream",
     "text": [
      " p\n"
     ]
    },
    {
     "name": "stdout",
     "output_type": "stream",
     "text": [
      "p _ _ _ _ _ _ _ _ _ _ _ _ _ _ _ "
     ]
    },
    {
     "name": "stdin",
     "output_type": "stream",
     "text": [
      " a\n"
     ]
    },
    {
     "name": "stdout",
     "output_type": "stream",
     "text": [
      "p a _ a _ _ a _ _ a _ _ a _ _ a "
     ]
    },
    {
     "name": "stdin",
     "output_type": "stream",
     "text": [
      " l\n"
     ]
    },
    {
     "name": "stdout",
     "output_type": "stream",
     "text": [
      "p a l a _ _ a _ _ a _ _ a _ _ a "
     ]
    },
    {
     "name": "stdin",
     "output_type": "stream",
     "text": [
      " v\n"
     ]
    },
    {
     "name": "stdout",
     "output_type": "stream",
     "text": [
      "p a l a v _ a _ _ a _ _ a _ _ a "
     ]
    },
    {
     "name": "stdin",
     "output_type": "stream",
     "text": [
      " r\n"
     ]
    },
    {
     "name": "stdout",
     "output_type": "stream",
     "text": [
      "p a l a v r a _ r a _ _ a _ _ a "
     ]
    },
    {
     "name": "stdin",
     "output_type": "stream",
     "text": [
      " a\n"
     ]
    },
    {
     "name": "stdout",
     "output_type": "stream",
     "text": [
      "p a l a v r a _ r a _ _ a _ _ a "
     ]
    },
    {
     "name": "stdin",
     "output_type": "stream",
     "text": [
      " g\n"
     ]
    },
    {
     "name": "stdout",
     "output_type": "stream",
     "text": [
      "p a l a v r a g r a _ _ a _ _ a "
     ]
    },
    {
     "name": "stdin",
     "output_type": "stream",
     "text": [
      " d\n"
     ]
    },
    {
     "name": "stdout",
     "output_type": "stream",
     "text": [
      "p a l a v r a g r a _ d a _ _ a "
     ]
    },
    {
     "name": "stdin",
     "output_type": "stream",
     "text": [
      " n\n"
     ]
    },
    {
     "name": "stdout",
     "output_type": "stream",
     "text": [
      "p a l a v r a g r a n d a _ _ a "
     ]
    },
    {
     "name": "stdin",
     "output_type": "stream",
     "text": [
      " s]\n"
     ]
    },
    {
     "name": "stdout",
     "output_type": "stream",
     "text": [
      "p a l a v r a g r a n d a _ _ a "
     ]
    },
    {
     "name": "stdin",
     "output_type": "stream",
     "text": [
      " s\n"
     ]
    },
    {
     "name": "stdout",
     "output_type": "stream",
     "text": [
      "p a l a v r a g r a n d a s s a Parabéns! Você ganhou.\n"
     ]
    }
   ],
   "source": [
    "jogo_forca([\"diferentes\",\"palavras\", \"para\", \"teste\"])\n"
   ]
  },
  {
   "cell_type": "code",
   "execution_count": null,
   "metadata": {},
   "outputs": [],
   "source": []
  }
 ],
 "metadata": {
  "colab": {
   "name": "forca.ipynb",
   "provenance": []
  },
  "kernelspec": {
   "display_name": "Python 3",
   "language": "python",
   "name": "python3"
  },
  "language_info": {
   "codemirror_mode": {
    "name": "ipython",
    "version": 3
   },
   "file_extension": ".py",
   "mimetype": "text/x-python",
   "name": "python",
   "nbconvert_exporter": "python",
   "pygments_lexer": "ipython3",
   "version": "3.7.3"
  }
 },
 "nbformat": 4,
 "nbformat_minor": 2
}

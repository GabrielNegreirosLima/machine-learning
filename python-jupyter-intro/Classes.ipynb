{
 "cells": [
  {
   "cell_type": "markdown",
   "metadata": {},
   "source": [
    "**Classe Autor**"
   ]
  },
  {
   "cell_type": "code",
   "execution_count": 77,
   "metadata": {},
   "outputs": [],
   "source": [
    "from datetime import date\n",
    "\n",
    "class Autor():\n",
    "  def __init__(self, nome_primeiro, nome_ultimo, nome_meio=\"\", data_nascimento=date.today()):\n",
    "    self.nome_primeiro = nome_primeiro\n",
    "    self.nome_meio = nome_meio\n",
    "    self.nome_ultimo = nome_ultimo\n",
    "    self.data_nascimento = data_nascimento\n",
    "        \n",
    "  @property\n",
    "  def nome_como_citado(self):\n",
    "    return f\"{self.nome_ultimo.upper()} {self.nome_primeiro[0]}.\"\n",
    "\n",
    "  def __str__(self):\n",
    "    return f\"{self.nome_primeiro} {self.nome_meio} {self.nome_ultimo}, nascido em {self.data_nascimento}\"\n",
    "  def __repr__(self):\n",
    "    return str(self)"
   ]
  },
  {
   "cell_type": "code",
   "execution_count": 78,
   "metadata": {},
   "outputs": [
    {
     "name": "stdout",
     "output_type": "stream",
     "text": [
      "LIMA G.\n",
      "DALIP D.\n",
      "Gabriel Negreiros Lima, nascido em 31/02/22\n",
      "Daniel Hassan Dalip, nascido em 31/01/21\n"
     ]
    }
   ],
   "source": [
    "autor_1 = Autor(\"Gabriel\",  \"Lima\", nome_meio=\"Negreiros\", data_nascimento=\"31/02/22\")\n",
    "autor_2 = Autor(\"Daniel\",  \"Dalip\", nome_meio=\"Hassan\", data_nascimento=\"31/01/21\")\n",
    "print(autor_1.nome_como_citado)\n",
    "print(autor_2.nome_como_citado)\n",
    "print(autor_1)\n",
    "print(autor_2)"
   ]
  },
  {
   "cell_type": "markdown",
   "metadata": {},
   "source": [
    "**Classe Livro**"
   ]
  },
  {
   "cell_type": "code",
   "execution_count": 92,
   "metadata": {},
   "outputs": [],
   "source": [
    "class Livro():\n",
    "  def __init__(self, titulo, ano, autores=[]):\n",
    "    self.titulo = titulo\n",
    "    self.ano = ano\n",
    "    self.autores = autores\n",
    "\n",
    "  @property\n",
    "  def titulo(self):\n",
    "    return self._titulo\n",
    "  @titulo.setter\n",
    "  def titulo(self,val):\n",
    "    if(val==\"\"):\n",
    "      raise ValueError(\"Erro: não é possível Titulo vazio!\")\n",
    "    self._titulo = val\n",
    "\n",
    "  def __str__(self):\n",
    "    name = f\"{self.titulo}. \"\n",
    "    for index, autor in enumerate(self.autores):\n",
    "        if index == len(self.autores)-1:\n",
    "            name += autor.nome_como_citado \n",
    "            continue\n",
    "        name += autor.nome_como_citado + \", \"\n",
    "    name += \" \" + self.ano\n",
    "    return name\n",
    "  def __repr__(self):\n",
    "    return str(self)"
   ]
  },
  {
   "cell_type": "code",
   "execution_count": 115,
   "metadata": {},
   "outputs": [
    {
     "name": "stdout",
     "output_type": "stream",
     "text": [
      "ML Principles\n",
      "ML to text processing\n",
      "ML Principles. LIMA G., DALIP D. 2012\n",
      "ML to text processing.  2014\n"
     ]
    }
   ],
   "source": [
    "livro_1 = Livro(\"Machine Learning principles\", \"2012\", [autor_1, autor_2])\n",
    "livro_2= Livro(\"ML to text processing\", \"2014\", [])\n",
    "livro_3= Livro(\"ML to very fun stuff\", \"2014\", [autor_2])\n",
    "\n",
    "# livro_1.titulo = \"\" # retorna erro\n",
    "livro_1.titulo = \"ML Principles\"\n",
    "\n",
    "print(livro_1.titulo)\n",
    "print(livro_2.titulo)\n",
    "print(livro_1)\n",
    "print(livro_2)"
   ]
  },
  {
   "cell_type": "markdown",
   "metadata": {},
   "source": [
    "**Classe Biblioteca**"
   ]
  },
  {
   "cell_type": "code",
   "execution_count": 112,
   "metadata": {},
   "outputs": [],
   "source": [
    "class Biblioteca():\n",
    "  \n",
    "  def __init__(self,livros=[]):\n",
    "    self.livros = livros\n",
    "    \n",
    "  @property\n",
    "  def livros_por_autor(self):\n",
    "    aux = {}\n",
    "    for livro in self.livros:\n",
    "        for autor in livro.autores:\n",
    "            if autor.nome_como_citado in aux:\n",
    "                aux[autor.nome_como_citado].append(livro.titulo)\n",
    "            else:\n",
    "                aux[autor.nome_como_citado] = []\n",
    "                aux[autor.nome_como_citado].append(livro.titulo)\n",
    "    return aux\n",
    "\n",
    "  def __str__(self):\n",
    "    return str(self.livros_por_autor)\n",
    "  def __repr__(self):\n",
    "    return str(self)"
   ]
  },
  {
   "cell_type": "code",
   "execution_count": 116,
   "metadata": {},
   "outputs": [
    {
     "name": "stdout",
     "output_type": "stream",
     "text": [
      "{'LIMA G.': ['ML Principles'], 'DALIP D.': ['ML Principles', 'ML to very fun stuff']}\n"
     ]
    }
   ],
   "source": [
    "biblioteca_1 = Biblioteca([livro_1, livro_2, livro_3])\n",
    "print(biblioteca_1)"
   ]
  }
 ],
 "metadata": {
  "kernelspec": {
   "display_name": "Python 3",
   "language": "python",
   "name": "python3"
  },
  "language_info": {
   "codemirror_mode": {
    "name": "ipython",
    "version": 3
   },
   "file_extension": ".py",
   "mimetype": "text/x-python",
   "name": "python",
   "nbconvert_exporter": "python",
   "pygments_lexer": "ipython3",
   "version": "3.7.3"
  }
 },
 "nbformat": 4,
 "nbformat_minor": 2
}
